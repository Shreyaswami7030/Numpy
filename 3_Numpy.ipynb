{
 "cells": [
  {
   "cell_type": "code",
   "execution_count": 79,
   "id": "e42a00ed-e4ee-4186-95ff-605f32954614",
   "metadata": {},
   "outputs": [
    {
     "data": {
      "text/plain": [
       "array([0., 0., 0., 0., 0.])"
      ]
     },
     "execution_count": 79,
     "metadata": {},
     "output_type": "execute_result"
    }
   ],
   "source": [
    " import numpy as np\n",
    "arr=np.zeros(5)\n",
    "arr"
   ]
  },
  {
   "cell_type": "code",
   "execution_count": 81,
   "id": "b001e470-c019-45df-8d7e-d3dce54401f5",
   "metadata": {},
   "outputs": [
    {
     "data": {
      "text/plain": [
       "array([0., 0., 0., 0., 0.])"
      ]
     },
     "execution_count": 81,
     "metadata": {},
     "output_type": "execute_result"
    }
   ],
   "source": [
    "arr=np.zeros(5,dtype=\"float\")\n",
    "arr"
   ]
  },
  {
   "cell_type": "code",
   "execution_count": 83,
   "id": "38ba2875-ff01-4cf5-b458-76c25f285a13",
   "metadata": {},
   "outputs": [
    {
     "data": {
      "text/plain": [
       "array([0, 0, 0, 0, 0])"
      ]
     },
     "execution_count": 83,
     "metadata": {},
     "output_type": "execute_result"
    }
   ],
   "source": [
    "arr=np.zeros(5,dtype=\"int\")\n",
    "arr"
   ]
  },
  {
   "cell_type": "code",
   "execution_count": 85,
   "id": "f508b894-08fd-436f-9791-94f7ada7153e",
   "metadata": {},
   "outputs": [
    {
     "data": {
      "text/plain": [
       "array([[0., 0., 0.],\n",
       "       [0., 0., 0.]])"
      ]
     },
     "execution_count": 85,
     "metadata": {},
     "output_type": "execute_result"
    }
   ],
   "source": [
    "arr=np.zeros([2,3],dtype=\"float\")\n",
    "arr"
   ]
  },
  {
   "cell_type": "code",
   "execution_count": 87,
   "id": "3c1b56c6-acf5-4094-a23f-6ef5b16179db",
   "metadata": {},
   "outputs": [
    {
     "data": {
      "text/plain": [
       "array([[0., 0.],\n",
       "       [0., 0.],\n",
       "       [0., 0.]])"
      ]
     },
     "execution_count": 87,
     "metadata": {},
     "output_type": "execute_result"
    }
   ],
   "source": [
    "arr=np.zeros([3,2],dtype=\"float\")\n",
    "arr"
   ]
  },
  {
   "cell_type": "code",
   "execution_count": 89,
   "id": "45a550c2-99b5-4e8e-8977-e919a62bb6ba",
   "metadata": {},
   "outputs": [
    {
     "data": {
      "text/plain": [
       "array([[0., 0.],\n",
       "       [0., 0.]])"
      ]
     },
     "execution_count": 89,
     "metadata": {},
     "output_type": "execute_result"
    }
   ],
   "source": [
    "arr=np.zeros([2,2],dtype=\"float\")\n",
    "arr"
   ]
  },
  {
   "cell_type": "code",
   "execution_count": 91,
   "id": "0e041da7-114d-478c-80a3-05308c6def2a",
   "metadata": {},
   "outputs": [
    {
     "data": {
      "text/plain": [
       "array([[0., 0., 0.],\n",
       "       [0., 0., 0.],\n",
       "       [0., 0., 0.]])"
      ]
     },
     "execution_count": 91,
     "metadata": {},
     "output_type": "execute_result"
    }
   ],
   "source": [
    "arr=np.zeros([3,3],dtype=\"float\")\n",
    "arr"
   ]
  },
  {
   "cell_type": "code",
   "execution_count": 93,
   "id": "dc66339e-b2fd-41a3-9d05-fa96eac04f40",
   "metadata": {},
   "outputs": [
    {
     "data": {
      "text/plain": [
       "array([[0., 0., 0.],\n",
       "       [0., 0., 0.],\n",
       "       [0., 0., 0.]])"
      ]
     },
     "execution_count": 93,
     "metadata": {},
     "output_type": "execute_result"
    }
   ],
   "source": [
    "arr=np.zeros((3,3))\n",
    "arr"
   ]
  },
  {
   "cell_type": "code",
   "execution_count": 95,
   "id": "b8a3097a-f8ff-49db-9ee3-ab2f80544862",
   "metadata": {},
   "outputs": [
    {
     "data": {
      "text/plain": [
       "array([1, 1, 1, 1, 1])"
      ]
     },
     "execution_count": 95,
     "metadata": {},
     "output_type": "execute_result"
    }
   ],
   "source": [
    "arr_ones=np.ones([5],dtype=\"int\")\n",
    "arr_ones"
   ]
  },
  {
   "cell_type": "code",
   "execution_count": 97,
   "id": "9b15eefc-0c42-40db-9783-cb6f3b317508",
   "metadata": {},
   "outputs": [
    {
     "data": {
      "text/plain": [
       "array([1., 1., 1., 1., 1.])"
      ]
     },
     "execution_count": 97,
     "metadata": {},
     "output_type": "execute_result"
    }
   ],
   "source": [
    "arr_ones=np.ones([5],dtype=\"float\")\n",
    "arr_ones"
   ]
  },
  {
   "cell_type": "code",
   "execution_count": 99,
   "id": "f59d48c8-7e23-4076-b800-b5f3e4d99797",
   "metadata": {},
   "outputs": [
    {
     "data": {
      "text/plain": [
       "array([[1, 1, 1],\n",
       "       [1, 1, 1],\n",
       "       [1, 1, 1],\n",
       "       [1, 1, 1],\n",
       "       [1, 1, 1]])"
      ]
     },
     "execution_count": 99,
     "metadata": {},
     "output_type": "execute_result"
    }
   ],
   "source": [
    "arr_ones=np.ones([5,3],dtype=\"int\")\n",
    "arr_ones"
   ]
  },
  {
   "cell_type": "code",
   "execution_count": 101,
   "id": "7b37e028-e1c9-4cd8-9fd6-a8434d82637d",
   "metadata": {},
   "outputs": [
    {
     "data": {
      "text/plain": [
       "array([[1, 1, 1],\n",
       "       [1, 1, 1]])"
      ]
     },
     "execution_count": 101,
     "metadata": {},
     "output_type": "execute_result"
    }
   ],
   "source": [
    "arr_ones=np.ones([2,3],dtype=\"int\")\n",
    "arr_ones"
   ]
  },
  {
   "cell_type": "code",
   "execution_count": 103,
   "id": "5cf6f49b-a96a-4b30-8221-fe4bc7e69d4c",
   "metadata": {},
   "outputs": [
    {
     "data": {
      "text/plain": [
       "array([[1, 1, 1],\n",
       "       [1, 1, 1],\n",
       "       [1, 1, 1]])"
      ]
     },
     "execution_count": 103,
     "metadata": {},
     "output_type": "execute_result"
    }
   ],
   "source": [
    "arr_ones=np.ones([3,3],dtype=\"int\")\n",
    "arr_ones"
   ]
  },
  {
   "cell_type": "code",
   "execution_count": 105,
   "id": "bcaaf979-24d2-41ea-88c6-7edfad4fe061",
   "metadata": {},
   "outputs": [
    {
     "data": {
      "text/plain": [
       "array([[1., 1., 1., 1.],\n",
       "       [1., 1., 1., 1.]])"
      ]
     },
     "execution_count": 105,
     "metadata": {},
     "output_type": "execute_result"
    }
   ],
   "source": [
    "arr_ones=np.ones([2,4],dtype=\"float\")\n",
    "arr_ones"
   ]
  },
  {
   "cell_type": "code",
   "execution_count": 107,
   "id": "3fecaeab-d531-4242-a904-cfc30599a93c",
   "metadata": {},
   "outputs": [
    {
     "data": {
      "text/html": [
       "<div>\n",
       "<style scoped>\n",
       "    .dataframe tbody tr th:only-of-type {\n",
       "        vertical-align: middle;\n",
       "    }\n",
       "\n",
       "    .dataframe tbody tr th {\n",
       "        vertical-align: top;\n",
       "    }\n",
       "\n",
       "    .dataframe thead th {\n",
       "        text-align: right;\n",
       "    }\n",
       "</style>\n",
       "<table border=\"1\" class=\"dataframe\">\n",
       "  <thead>\n",
       "    <tr style=\"text-align: right;\">\n",
       "      <th></th>\n",
       "      <th>0</th>\n",
       "      <th>1</th>\n",
       "      <th>2</th>\n",
       "      <th>3</th>\n",
       "    </tr>\n",
       "  </thead>\n",
       "  <tbody>\n",
       "    <tr>\n",
       "      <th>0</th>\n",
       "      <td>1.0</td>\n",
       "      <td>1.0</td>\n",
       "      <td>1.0</td>\n",
       "      <td>1.0</td>\n",
       "    </tr>\n",
       "    <tr>\n",
       "      <th>1</th>\n",
       "      <td>1.0</td>\n",
       "      <td>1.0</td>\n",
       "      <td>1.0</td>\n",
       "      <td>1.0</td>\n",
       "    </tr>\n",
       "  </tbody>\n",
       "</table>\n",
       "</div>"
      ],
      "text/plain": [
       "     0    1    2    3\n",
       "0  1.0  1.0  1.0  1.0\n",
       "1  1.0  1.0  1.0  1.0"
      ]
     },
     "execution_count": 107,
     "metadata": {},
     "output_type": "execute_result"
    }
   ],
   "source": [
    "import pandas as pd\n",
    "a=pd.DataFrame(arr_ones)\n",
    "a"
   ]
  },
  {
   "cell_type": "code",
   "execution_count": 109,
   "id": "28857753-40cd-466d-8d5b-18d682a80a64",
   "metadata": {},
   "outputs": [
    {
     "data": {
      "text/html": [
       "<div>\n",
       "<style scoped>\n",
       "    .dataframe tbody tr th:only-of-type {\n",
       "        vertical-align: middle;\n",
       "    }\n",
       "\n",
       "    .dataframe tbody tr th {\n",
       "        vertical-align: top;\n",
       "    }\n",
       "\n",
       "    .dataframe thead th {\n",
       "        text-align: right;\n",
       "    }\n",
       "</style>\n",
       "<table border=\"1\" class=\"dataframe\">\n",
       "  <thead>\n",
       "    <tr style=\"text-align: right;\">\n",
       "      <th></th>\n",
       "      <th>0</th>\n",
       "      <th>1</th>\n",
       "      <th>2</th>\n",
       "    </tr>\n",
       "  </thead>\n",
       "  <tbody>\n",
       "    <tr>\n",
       "      <th>0</th>\n",
       "      <td>0.0</td>\n",
       "      <td>0.0</td>\n",
       "      <td>0.0</td>\n",
       "    </tr>\n",
       "    <tr>\n",
       "      <th>1</th>\n",
       "      <td>0.0</td>\n",
       "      <td>0.0</td>\n",
       "      <td>0.0</td>\n",
       "    </tr>\n",
       "    <tr>\n",
       "      <th>2</th>\n",
       "      <td>0.0</td>\n",
       "      <td>0.0</td>\n",
       "      <td>0.0</td>\n",
       "    </tr>\n",
       "  </tbody>\n",
       "</table>\n",
       "</div>"
      ],
      "text/plain": [
       "     0    1    2\n",
       "0  0.0  0.0  0.0\n",
       "1  0.0  0.0  0.0\n",
       "2  0.0  0.0  0.0"
      ]
     },
     "execution_count": 109,
     "metadata": {},
     "output_type": "execute_result"
    }
   ],
   "source": [
    "b=pd.DataFrame(arr)\n",
    "b"
   ]
  },
  {
   "cell_type": "code",
   "execution_count": 111,
   "id": "f0929d5e-4bb6-4c9b-aaa4-b47bcf57aa57",
   "metadata": {},
   "outputs": [
    {
     "data": {
      "text/plain": [
       "array([20, 19, 18, 17, 16, 15, 14, 13, 12, 11])"
      ]
     },
     "execution_count": 111,
     "metadata": {},
     "output_type": "execute_result"
    }
   ],
   "source": [
    "arr=np.arange(20,10,-1)\n",
    "arr"
   ]
  },
  {
   "cell_type": "code",
   "execution_count": 113,
   "id": "82e6d770-45c3-4f00-aef7-b514a125dd8c",
   "metadata": {},
   "outputs": [
    {
     "data": {
      "text/plain": [
       "array([[20, 19, 18, 17, 16],\n",
       "       [15, 14, 13, 12, 11]])"
      ]
     },
     "execution_count": 113,
     "metadata": {},
     "output_type": "execute_result"
    }
   ],
   "source": [
    "arr.reshape(2,5)"
   ]
  },
  {
   "cell_type": "code",
   "execution_count": 115,
   "id": "d419902c-df25-42d4-a480-9cbf26646177",
   "metadata": {},
   "outputs": [
    {
     "data": {
      "text/plain": [
       "array([[20, 19],\n",
       "       [18, 17],\n",
       "       [16, 15],\n",
       "       [14, 13],\n",
       "       [12, 11]])"
      ]
     },
     "execution_count": 115,
     "metadata": {},
     "output_type": "execute_result"
    }
   ],
   "source": [
    "arr.reshape(5,2)"
   ]
  },
  {
   "cell_type": "code",
   "execution_count": 117,
   "id": "e7ac0249-8c88-4163-accc-4c96f5ed215a",
   "metadata": {},
   "outputs": [
    {
     "name": "stdout",
     "output_type": "stream",
     "text": [
      "[[4 4]\n",
      " [4 4]]\n"
     ]
    }
   ],
   "source": [
    "arr=np.empty([2,2],dtype=int)\n",
    "print(arr)"
   ]
  },
  {
   "cell_type": "code",
   "execution_count": 119,
   "id": "8182a5b3-0a27-479c-8081-ef53f9ad47ee",
   "metadata": {},
   "outputs": [
    {
     "name": "stdout",
     "output_type": "stream",
     "text": [
      "[[0 0]\n",
      " [0 0]\n",
      " [0 0]]\n"
     ]
    }
   ],
   "source": [
    "arr=np.empty([3,2],dtype=int)\n",
    "print(arr)"
   ]
  },
  {
   "cell_type": "code",
   "execution_count": 195,
   "id": "3b334a2c-b6d9-4ab8-83e2-3464764faf53",
   "metadata": {},
   "outputs": [
    {
     "name": "stdout",
     "output_type": "stream",
     "text": [
      "[[3 3]\n",
      " [3 3]]\n"
     ]
    }
   ],
   "source": [
    "arr=np.full([2,2],3)\n",
    "print(arr)"
   ]
  },
  {
   "cell_type": "code",
   "execution_count": 197,
   "id": "3f3a2def-8246-4fda-9477-8cb00b453b9f",
   "metadata": {},
   "outputs": [
    {
     "name": "stdout",
     "output_type": "stream",
     "text": [
      "[[4 4]\n",
      " [4 4]]\n"
     ]
    }
   ],
   "source": [
    "arr=np.full([2,2],4)\n",
    "print(arr)"
   ]
  },
  {
   "cell_type": "code",
   "execution_count": 199,
   "id": "281509a1-f983-4985-9b86-c2bb2cdb4873",
   "metadata": {},
   "outputs": [
    {
     "name": "stdout",
     "output_type": "stream",
     "text": [
      "[[2 2 2]\n",
      " [2 2 2]\n",
      " [2 2 2]]\n"
     ]
    }
   ],
   "source": [
    "arr=np.full([3,3],2)\n",
    "print(arr)"
   ]
  },
  {
   "cell_type": "code",
   "execution_count": 201,
   "id": "cddd1725-31b1-415e-8199-dbc95208112f",
   "metadata": {},
   "outputs": [
    {
     "data": {
      "text/plain": [
       "array([ 1.        ,  3.11111111,  5.22222222,  7.33333333,  9.44444444,\n",
       "       11.55555556, 13.66666667, 15.77777778, 17.88888889, 20.        ])"
      ]
     },
     "execution_count": 201,
     "metadata": {},
     "output_type": "execute_result"
    }
   ],
   "source": [
    "arr=np.linspace(1,20,num=10)\n",
    "arr"
   ]
  },
  {
   "cell_type": "code",
   "execution_count": 203,
   "id": "29de9b45-4551-4fba-898e-cdd6afa5fd7c",
   "metadata": {},
   "outputs": [
    {
     "data": {
      "text/plain": [
       "array([ 1.        ,  6.44444444, 11.88888889, 17.33333333, 22.77777778,\n",
       "       28.22222222, 33.66666667, 39.11111111, 44.55555556, 50.        ])"
      ]
     },
     "execution_count": 203,
     "metadata": {},
     "output_type": "execute_result"
    }
   ],
   "source": [
    "arr=np.linspace(1,50,num=10)\n",
    "arr"
   ]
  },
  {
   "cell_type": "code",
   "execution_count": 205,
   "id": "b10f8b12-b20d-4627-936a-053e16c58103",
   "metadata": {},
   "outputs": [
    {
     "data": {
      "text/plain": [
       "{'zeros': array([0., 0., 0., 0., 0., 0., 0., 0., 0., 0.]),\n",
       " 'Ones': array([1., 1., 1., 1., 1., 1., 1., 1., 1., 1.]),\n",
       " 'Arange': array([10, 11, 12, 13, 14, 15, 16, 17, 18, 19, 20]),\n",
       " 'Linspace': array([100.        , 104.16666667, 108.33333333, 112.5       ,\n",
       "        116.66666667, 120.83333333, 125.        , 129.16666667,\n",
       "        133.33333333, 137.5       , 141.66666667, 145.83333333,\n",
       "        150.        , 154.16666667, 158.33333333, 162.5       ,\n",
       "        166.66666667, 170.83333333, 175.        , 179.16666667,\n",
       "        183.33333333, 187.5       , 191.66666667, 195.83333333,\n",
       "        200.        ])}"
      ]
     },
     "execution_count": 205,
     "metadata": {},
     "output_type": "execute_result"
    }
   ],
   "source": [
    "s={\"zeros\": np.zeros(10),\n",
    "   \"Ones\": np.ones(10),\n",
    "   \"Arange\":np.arange(10,21),\n",
    "   \"Linspace\":np.linspace(100,200,num=25)}\n",
    "s"
   ]
  },
  {
   "cell_type": "code",
   "execution_count": 207,
   "id": "d6e5aa92-866c-428f-9093-32ff7436a289",
   "metadata": {},
   "outputs": [
    {
     "data": {
      "text/plain": [
       "{'zeros': array([0., 0., 0., 0., 0., 0., 0., 0., 0., 0.]),\n",
       " 'Ones': array([1., 1., 1., 1., 1., 1., 1., 1., 1., 1.]),\n",
       " 'Arange': array([10, 11, 12, 13, 14, 15, 16, 17, 18, 19, 20]),\n",
       " 'Linspace': array([100.  , 104.17, 108.33, 112.5 , 116.67, 120.83, 125.  , 129.17,\n",
       "        133.33, 137.5 , 141.67, 145.83, 150.  , 154.17, 158.33, 162.5 ,\n",
       "        166.67, 170.83, 175.  , 179.17, 183.33, 187.5 , 191.67, 195.83,\n",
       "        200.  ])}"
      ]
     },
     "execution_count": 207,
     "metadata": {},
     "output_type": "execute_result"
    }
   ],
   "source": [
    "dict_rounded={key:np.round(value,2) for key,value in s.items()}\n",
    "dict_rounded"
   ]
  },
  {
   "cell_type": "code",
   "execution_count": 209,
   "id": "3433e082-3677-4312-b2d4-3c0bb12bf96d",
   "metadata": {},
   "outputs": [
    {
     "data": {
      "text/plain": [
       "array([[1, 0, 0],\n",
       "       [0, 1, 0],\n",
       "       [0, 0, 1]])"
      ]
     },
     "execution_count": 209,
     "metadata": {},
     "output_type": "execute_result"
    }
   ],
   "source": [
    "np.eye(3,dtype=\"int\")"
   ]
  },
  {
   "cell_type": "code",
   "execution_count": 211,
   "id": "6d92f029-1004-4f44-8fc6-e8564b0079b4",
   "metadata": {},
   "outputs": [
    {
     "data": {
      "text/plain": [
       "array([[1, 0, 0],\n",
       "       [0, 1, 0]])"
      ]
     },
     "execution_count": 211,
     "metadata": {},
     "output_type": "execute_result"
    }
   ],
   "source": [
    "np.eye(2,3,dtype=\"int\")"
   ]
  },
  {
   "cell_type": "code",
   "execution_count": 213,
   "id": "f1f8f18e-9791-47f4-a6a2-61aa3901d456",
   "metadata": {},
   "outputs": [
    {
     "data": {
      "text/plain": [
       "array([[1., 0., 0.],\n",
       "       [0., 1., 0.]])"
      ]
     },
     "execution_count": 213,
     "metadata": {},
     "output_type": "execute_result"
    }
   ],
   "source": [
    "np.eye(2,3,dtype=\"float\")"
   ]
  },
  {
   "cell_type": "code",
   "execution_count": 215,
   "id": "bedf35f6-0e25-4745-b278-6a90306324fd",
   "metadata": {},
   "outputs": [
    {
     "data": {
      "text/plain": [
       "array([[0, 0, 1, 0],\n",
       "       [0, 0, 0, 1],\n",
       "       [0, 0, 0, 0],\n",
       "       [0, 0, 0, 0],\n",
       "       [0, 0, 0, 0]])"
      ]
     },
     "execution_count": 215,
     "metadata": {},
     "output_type": "execute_result"
    }
   ],
   "source": [
    "np.eye(5,4,k=2,dtype=\"int\")"
   ]
  },
  {
   "cell_type": "code",
   "execution_count": 219,
   "id": "4d8da812-19aa-4190-b597-e0989d689d44",
   "metadata": {},
   "outputs": [
    {
     "data": {
      "text/plain": [
       "array([[1, 0, 0, 0, 0],\n",
       "       [0, 1, 0, 0, 0],\n",
       "       [0, 0, 1, 0, 0],\n",
       "       [0, 0, 0, 1, 0],\n",
       "       [0, 0, 0, 0, 1]])"
      ]
     },
     "execution_count": 219,
     "metadata": {},
     "output_type": "execute_result"
    }
   ],
   "source": [
    "np.identity(5,dtype=\"int\")"
   ]
  },
  {
   "cell_type": "code",
   "execution_count": 217,
   "id": "c728f10e-d60e-439c-8f1c-0c782b662894",
   "metadata": {},
   "outputs": [
    {
     "data": {
      "text/plain": [
       "array([[1., 0., 0.],\n",
       "       [0., 1., 0.],\n",
       "       [0., 0., 1.]])"
      ]
     },
     "execution_count": 217,
     "metadata": {},
     "output_type": "execute_result"
    }
   ],
   "source": [
    "np.identity(3,dtype=\"float\")"
   ]
  },
  {
   "cell_type": "code",
   "execution_count": 221,
   "id": "929b46e0-f6a4-40e9-9e82-c594befe2072",
   "metadata": {},
   "outputs": [
    {
     "data": {
      "text/plain": [
       "array([[0., 0., 1.],\n",
       "       [0., 0., 0.],\n",
       "       [0., 0., 0.],\n",
       "       [0., 0., 0.]])"
      ]
     },
     "execution_count": 221,
     "metadata": {},
     "output_type": "execute_result"
    }
   ],
   "source": [
    "np.eye(4,3,k=2,dtype=\"float\")"
   ]
  },
  {
   "cell_type": "markdown",
   "id": "905f6963-40a2-46e4-8769-998544345fb5",
   "metadata": {},
   "source": [
    "# Random"
   ]
  },
  {
   "cell_type": "markdown",
   "id": "c6c9acec-ae46-40e2-8692-07836a9c29b2",
   "metadata": {},
   "source": [
    "# Rand()"
   ]
  },
  {
   "cell_type": "code",
   "execution_count": 223,
   "id": "c245e8b8-bc2f-49cc-a9d2-7f439bb9128d",
   "metadata": {},
   "outputs": [],
   "source": [
    "import numpy as np"
   ]
  },
  {
   "cell_type": "code",
   "execution_count": 225,
   "id": "7628e450-e2bf-42f2-8631-c287973d3931",
   "metadata": {},
   "outputs": [],
   "source": [
    "a = np.random.rand(5,4)"
   ]
  },
  {
   "cell_type": "code",
   "execution_count": 227,
   "id": "f8d0ba1a-39db-4c18-9bb8-404939c08a10",
   "metadata": {},
   "outputs": [
    {
     "data": {
      "text/plain": [
       "array([[0.72175872, 0.91174837, 0.70004402, 0.91716088],\n",
       "       [0.60826515, 0.51743389, 0.78147491, 0.4892779 ],\n",
       "       [0.07059604, 0.37028596, 0.59644649, 0.76097761],\n",
       "       [0.81412994, 0.36276527, 0.53050958, 0.96174472],\n",
       "       [0.7902179 , 0.06572361, 0.25853158, 0.21368488]])"
      ]
     },
     "execution_count": 227,
     "metadata": {},
     "output_type": "execute_result"
    }
   ],
   "source": [
    "a"
   ]
  },
  {
   "cell_type": "code",
   "execution_count": 229,
   "id": "fae49f20-a1a1-47b4-9111-6fd0299054e3",
   "metadata": {},
   "outputs": [
    {
     "data": {
      "text/plain": [
       "array([0.19290541, 0.79998872, 0.70070574, 0.97397261, 0.39970919])"
      ]
     },
     "execution_count": 229,
     "metadata": {},
     "output_type": "execute_result"
    }
   ],
   "source": [
    "a = np.random.rand(5)\n",
    "a"
   ]
  },
  {
   "cell_type": "code",
   "execution_count": 231,
   "id": "843d093c-54fc-48c4-966d-19b3192f6f3b",
   "metadata": {},
   "outputs": [
    {
     "data": {
      "text/plain": [
       "array([[0.77163558, 0.4914655 , 0.39134935],\n",
       "       [0.28421974, 0.42506446, 0.62648372]])"
      ]
     },
     "execution_count": 231,
     "metadata": {},
     "output_type": "execute_result"
    }
   ],
   "source": [
    "a = np.random.rand(2,3)\n",
    "a"
   ]
  },
  {
   "cell_type": "code",
   "execution_count": 233,
   "id": "254a9df3-a70c-45e9-b277-b10abb61c4b4",
   "metadata": {},
   "outputs": [
    {
     "data": {
      "text/plain": [
       "array([[0.77284956, 0.06572658],\n",
       "       [0.06351545, 0.56715373],\n",
       "       [0.77480272, 0.58433679],\n",
       "       [0.9688587 , 0.45929084]])"
      ]
     },
     "execution_count": 233,
     "metadata": {},
     "output_type": "execute_result"
    }
   ],
   "source": [
    "a = np.random.rand(4,2)\n",
    "a"
   ]
  },
  {
   "cell_type": "markdown",
   "id": "70e09f72-493f-4e9b-86fa-665d7b6fe893",
   "metadata": {},
   "source": [
    "# Randn"
   ]
  },
  {
   "cell_type": "code",
   "execution_count": 235,
   "id": "aafa1b2a-12a7-4e0f-84c0-3ca95693399a",
   "metadata": {},
   "outputs": [
    {
     "data": {
      "text/plain": [
       "array([[-0.35630263, -0.92206323,  1.93203794],\n",
       "       [ 0.40786221,  0.4678339 , -0.50290678]])"
      ]
     },
     "execution_count": 235,
     "metadata": {},
     "output_type": "execute_result"
    }
   ],
   "source": [
    "a=np.random.randn(2,3)\n",
    "a"
   ]
  },
  {
   "cell_type": "code",
   "execution_count": 237,
   "id": "60ab0439-03b8-4539-8392-88f0e41497ca",
   "metadata": {},
   "outputs": [
    {
     "data": {
      "text/plain": [
       "array([-0.26420721,  0.18695161,  0.69560422, -1.02102922, -0.2887595 ])"
      ]
     },
     "execution_count": 237,
     "metadata": {},
     "output_type": "execute_result"
    }
   ],
   "source": [
    "a=np.random.randn(5)\n",
    "a"
   ]
  },
  {
   "cell_type": "markdown",
   "id": "e4c6a32f-3a5c-49b2-8366-e4267199c037",
   "metadata": {},
   "source": [
    "# Ranf"
   ]
  },
  {
   "cell_type": "code",
   "execution_count": 239,
   "id": "6087c250-a545-4f7b-92db-4386343bd94f",
   "metadata": {},
   "outputs": [
    {
     "data": {
      "text/plain": [
       "array([0.84876013, 0.57688045, 0.77409863, 0.89012226])"
      ]
     },
     "execution_count": 239,
     "metadata": {},
     "output_type": "execute_result"
    }
   ],
   "source": [
    "a=np.random.ranf(4)\n",
    "a\n"
   ]
  },
  {
   "cell_type": "markdown",
   "id": "d3d3f574-5f8f-4185-99f6-df71d1a564f4",
   "metadata": {},
   "source": [
    "# randint()"
   ]
  },
  {
   "cell_type": "code",
   "execution_count": 241,
   "id": "53a68f86-f7fd-433a-b9f8-355ad8d1f627",
   "metadata": {},
   "outputs": [
    {
     "data": {
      "text/plain": [
       "array([16,  6, 11,  9, 16])"
      ]
     },
     "execution_count": 241,
     "metadata": {},
     "output_type": "execute_result"
    }
   ],
   "source": [
    "a=np.random.randint(5,20,5)\n",
    "a"
   ]
  },
  {
   "cell_type": "code",
   "execution_count": 243,
   "id": "632b08f0-9b5e-4b4f-9cbf-bb95109cc758",
   "metadata": {},
   "outputs": [
    {
     "data": {
      "text/plain": [
       "array([0.86091388, 0.52075201, 0.10615199])"
      ]
     },
     "execution_count": 243,
     "metadata": {},
     "output_type": "execute_result"
    }
   ],
   "source": [
    "a=np.random.rand(3)\n",
    "a"
   ]
  },
  {
   "cell_type": "code",
   "execution_count": 245,
   "id": "53a507fb-afa0-421f-b3e0-fc524acbc453",
   "metadata": {},
   "outputs": [
    {
     "data": {
      "text/plain": [
       "array([[0.69951943, 0.71537567],\n",
       "       [0.35115556, 0.48817057],\n",
       "       [0.95681325, 0.03552727]])"
      ]
     },
     "execution_count": 245,
     "metadata": {},
     "output_type": "execute_result"
    }
   ],
   "source": [
    "a=np.random.rand(3,2)\n",
    "a"
   ]
  },
  {
   "cell_type": "code",
   "execution_count": 247,
   "id": "7d1d3853-79a2-4b88-aa17-22b50e5302d2",
   "metadata": {},
   "outputs": [
    {
     "data": {
      "text/plain": [
       "array([[0.82458123, 0.23259583],\n",
       "       [0.62413428, 0.79766868],\n",
       "       [0.25997841, 0.4382139 ],\n",
       "       [0.77476334, 0.04192357]])"
      ]
     },
     "execution_count": 247,
     "metadata": {},
     "output_type": "execute_result"
    }
   ],
   "source": [
    "a=np.random.rand(4,2)\n",
    "a"
   ]
  },
  {
   "cell_type": "code",
   "execution_count": 249,
   "id": "4b02db64-de09-4713-a183-5c56cd7d9f6b",
   "metadata": {},
   "outputs": [
    {
     "data": {
      "text/plain": [
       "array([[0.99489201, 0.59755784, 0.75924968],\n",
       "       [0.12093042, 0.02314671, 0.69408965],\n",
       "       [0.82817595, 0.21649044, 0.20627573]])"
      ]
     },
     "execution_count": 249,
     "metadata": {},
     "output_type": "execute_result"
    }
   ],
   "source": [
    "a=np.random.rand(3,3)\n",
    "a"
   ]
  },
  {
   "cell_type": "code",
   "execution_count": 251,
   "id": "cdf4ba59-7fbf-43fe-8a6d-9397dafb397f",
   "metadata": {},
   "outputs": [
    {
     "data": {
      "text/plain": [
       "array([19, 16, 20, 26, 11])"
      ]
     },
     "execution_count": 251,
     "metadata": {},
     "output_type": "execute_result"
    }
   ],
   "source": [
    "a=np.random.randint(9,29,size=5,dtype=\"int\")\n",
    "a"
   ]
  },
  {
   "cell_type": "code",
   "execution_count": 253,
   "id": "f0d47cf5-d827-4993-9cc1-23116c76ce87",
   "metadata": {},
   "outputs": [
    {
     "data": {
      "text/plain": [
       "array([[15, 10, 28, 19, 15],\n",
       "       [17, 26, 24, 22, 14],\n",
       "       [16,  9, 21, 21, 23],\n",
       "       [24, 22,  9, 14, 15],\n",
       "       [22,  9, 13, 17,  9]])"
      ]
     },
     "execution_count": 253,
     "metadata": {},
     "output_type": "execute_result"
    }
   ],
   "source": [
    "a=np.random.randint(9,29,size=(5,5),dtype=\"int\")\n",
    "a"
   ]
  },
  {
   "cell_type": "code",
   "execution_count": 255,
   "id": "3d2087f5-a80a-4892-8425-8e40894fc6fb",
   "metadata": {},
   "outputs": [
    {
     "data": {
      "text/plain": [
       "array([[4, 4, 4, 8, 7],\n",
       "       [4, 5, 8, 4, 8],\n",
       "       [6, 6, 6, 4, 6],\n",
       "       [5, 4, 4, 8, 8],\n",
       "       [7, 7, 6, 7, 7]])"
      ]
     },
     "execution_count": 255,
     "metadata": {},
     "output_type": "execute_result"
    }
   ],
   "source": [
    "a=np.random.randint(4,9,size=(5,5),dtype=\"int\")\n",
    "a"
   ]
  },
  {
   "cell_type": "code",
   "execution_count": 257,
   "id": "93857c1b-6642-4678-a1c4-492095ed8062",
   "metadata": {},
   "outputs": [
    {
     "data": {
      "text/plain": [
       "array([[[5, 6, 4, 4],\n",
       "        [8, 7, 4, 7],\n",
       "        [7, 6, 8, 5],\n",
       "        [7, 6, 5, 7],\n",
       "        [8, 4, 7, 8]],\n",
       "\n",
       "       [[8, 6, 4, 4],\n",
       "        [7, 5, 6, 6],\n",
       "        [8, 5, 7, 5],\n",
       "        [4, 4, 5, 7],\n",
       "        [6, 6, 4, 5]],\n",
       "\n",
       "       [[8, 6, 4, 4],\n",
       "        [7, 6, 6, 8],\n",
       "        [7, 4, 5, 4],\n",
       "        [6, 5, 4, 4],\n",
       "        [4, 8, 7, 5]],\n",
       "\n",
       "       [[5, 7, 8, 5],\n",
       "        [6, 4, 8, 5],\n",
       "        [5, 6, 4, 7],\n",
       "        [8, 4, 4, 7],\n",
       "        [6, 5, 7, 5]],\n",
       "\n",
       "       [[6, 7, 4, 6],\n",
       "        [6, 6, 5, 4],\n",
       "        [5, 8, 4, 7],\n",
       "        [5, 7, 8, 7],\n",
       "        [4, 5, 5, 6]]])"
      ]
     },
     "execution_count": 257,
     "metadata": {},
     "output_type": "execute_result"
    }
   ],
   "source": [
    "a=np.random.randint(4,9,size=(5,5,4),dtype=\"int\")\n",
    "a"
   ]
  },
  {
   "cell_type": "code",
   "execution_count": 259,
   "id": "613f8662-f703-4189-bc41-8794a8539c6c",
   "metadata": {},
   "outputs": [
    {
     "data": {
      "text/plain": [
       "array([ 0.57720511, -0.42964687, -0.90375535,  0.73217761, -1.76247252])"
      ]
     },
     "execution_count": 259,
     "metadata": {},
     "output_type": "execute_result"
    }
   ],
   "source": [
    "np.random.randn(5)"
   ]
  },
  {
   "cell_type": "code",
   "execution_count": 261,
   "id": "3a3e60f8-d14b-4622-b209-928305150dab",
   "metadata": {},
   "outputs": [
    {
     "data": {
      "text/plain": [
       "array([[-0.862073  ,  0.83535157,  0.4186843 , -1.26553267, -0.15714877],\n",
       "       [-0.01733157,  0.68755052, -0.23035115,  0.48831468,  0.41120252],\n",
       "       [ 0.21465274,  0.45404124,  1.89089856, -0.605854  ,  0.88009699],\n",
       "       [ 1.61150423,  0.2509527 , -0.14225364,  1.38995447,  0.77164849]])"
      ]
     },
     "execution_count": 261,
     "metadata": {},
     "output_type": "execute_result"
    }
   ],
   "source": [
    "np.random.randn(4,5)"
   ]
  },
  {
   "cell_type": "code",
   "execution_count": 263,
   "id": "9097c9eb-aa9e-4473-b966-3a2710b00f9e",
   "metadata": {},
   "outputs": [
    {
     "data": {
      "text/plain": [
       "array([[[ 0.77178533,  0.23865787],\n",
       "        [ 1.89896638, -0.29792345],\n",
       "        [-0.82872925, -0.15458216],\n",
       "        [-0.62583896,  0.30919184],\n",
       "        [-1.18054565,  1.25907691]],\n",
       "\n",
       "       [[-0.45655379,  0.25871688],\n",
       "        [-0.36097418, -0.06765422],\n",
       "        [-1.02209333, -0.55543087],\n",
       "        [-1.3764251 , -1.39919007],\n",
       "        [ 0.76852607,  1.04043993]],\n",
       "\n",
       "       [[ 0.98572023, -0.41575302],\n",
       "        [ 0.29399888, -0.04809599],\n",
       "        [-0.45484545,  0.83791938],\n",
       "        [-0.01503375,  0.84490135],\n",
       "        [ 0.88395104,  0.92983562]],\n",
       "\n",
       "       [[-0.41803566,  0.45021901],\n",
       "        [ 1.18195118, -1.16697142],\n",
       "        [-1.8530296 , -0.19147445],\n",
       "        [-0.23418253, -0.22292495],\n",
       "        [ 0.06942935,  0.89897611]]])"
      ]
     },
     "execution_count": 263,
     "metadata": {},
     "output_type": "execute_result"
    }
   ],
   "source": [
    "np.random.randn(4,5,2)"
   ]
  },
  {
   "cell_type": "code",
   "execution_count": 265,
   "id": "f59e43f4-19b4-4749-82f3-fa13ab6e19ea",
   "metadata": {},
   "outputs": [
    {
     "data": {
      "text/plain": [
       "array([0.54836866, 0.91262166, 0.87002713])"
      ]
     },
     "execution_count": 265,
     "metadata": {},
     "output_type": "execute_result"
    }
   ],
   "source": [
    "np.random.ranf(3)\n"
   ]
  },
  {
   "cell_type": "code",
   "execution_count": 267,
   "id": "a82e3ed1-d78d-4af4-869f-85bb2d11cf5d",
   "metadata": {},
   "outputs": [
    {
     "data": {
      "text/plain": [
       "array([[0.34786688, 0.14292343, 0.78020863, 0.23333054, 0.5567714 ],\n",
       "       [0.06851041, 0.52929735, 0.60758653, 0.33445375, 0.14229452],\n",
       "       [0.17972577, 0.0120761 , 0.7284204 , 0.19040665, 0.7428719 ]])"
      ]
     },
     "execution_count": 267,
     "metadata": {},
     "output_type": "execute_result"
    }
   ],
   "source": [
    "np.random.random_sample((3,5))\n"
   ]
  },
  {
   "cell_type": "code",
   "execution_count": 269,
   "id": "3b9aefad-9c67-46b9-b152-aa5c1e775795",
   "metadata": {},
   "outputs": [
    {
     "data": {
      "text/plain": [
       "array([[0.72921562, 0.39345806, 0.37015762, 0.62139753, 0.34100129,\n",
       "        0.37693277],\n",
       "       [0.37746551, 0.84522382, 0.8634941 , 0.88398934, 0.42096196,\n",
       "        0.4576309 ],\n",
       "       [0.17462573, 0.62197127, 0.9536051 , 0.70153545, 0.99269049,\n",
       "        0.12664971],\n",
       "       [0.67893489, 0.52073539, 0.40718431, 0.9105634 , 0.08390408,\n",
       "        0.88086153],\n",
       "       [0.008049  , 0.89470556, 0.95943514, 0.18734365, 0.24827585,\n",
       "        0.68817689]])"
      ]
     },
     "execution_count": 269,
     "metadata": {},
     "output_type": "execute_result"
    }
   ],
   "source": [
    "a=np.random.rand(5,6)\n",
    "a"
   ]
  },
  {
   "cell_type": "code",
   "execution_count": 271,
   "id": "80cedd6d-eee5-4f4c-8767-6f32d84ce164",
   "metadata": {},
   "outputs": [
    {
     "data": {
      "text/plain": [
       "array([[ 0.72364219, -0.92772945, -0.07307404, -0.38506349, -0.19443383],\n",
       "       [ 0.90091084, -0.67042699,  1.53321787, -1.83382592, -1.15340015],\n",
       "       [-1.63850045, -0.32721766, -1.06006644, -0.28288868,  2.22467215]])"
      ]
     },
     "execution_count": 271,
     "metadata": {},
     "output_type": "execute_result"
    }
   ],
   "source": [
    "a=np.random.randn(3,5)\n",
    "a"
   ]
  },
  {
   "cell_type": "code",
   "execution_count": 273,
   "id": "915efc1a-d9b8-4093-8047-d6bcfe82c85a",
   "metadata": {},
   "outputs": [
    {
     "data": {
      "text/plain": [
       "array([0.23351053, 0.62443396, 0.65139222])"
      ]
     },
     "execution_count": 273,
     "metadata": {},
     "output_type": "execute_result"
    }
   ],
   "source": [
    "a=np.random.ranf(3)\n",
    "a"
   ]
  },
  {
   "cell_type": "code",
   "execution_count": 275,
   "id": "4aa79cdb-b86f-4707-885e-899aeec5d7f6",
   "metadata": {},
   "outputs": [
    {
     "data": {
      "text/plain": [
       "array([[0.40481956, 0.84123595, 0.87310823, 0.70508165, 0.53692116,\n",
       "        0.10387161],\n",
       "       [0.5985504 , 0.95356994, 0.92563502, 0.87856979, 0.34898627,\n",
       "        0.83258611],\n",
       "       [0.53015739, 0.23414392, 0.49963762, 0.82033158, 0.39130431,\n",
       "        0.29514077]])"
      ]
     },
     "execution_count": 275,
     "metadata": {},
     "output_type": "execute_result"
    }
   ],
   "source": [
    "a=np.random.random_sample((3,6))\n",
    "a"
   ]
  },
  {
   "cell_type": "code",
   "execution_count": 277,
   "id": "de801da1-0be0-4083-8483-f838975652d5",
   "metadata": {},
   "outputs": [
    {
     "data": {
      "text/plain": [
       "array([19, 14,  9, 18, 18, 15, 19, 14, 18])"
      ]
     },
     "execution_count": 277,
     "metadata": {},
     "output_type": "execute_result"
    }
   ],
   "source": [
    "a=np.random.randint(8,20,size=9)\n",
    "a"
   ]
  },
  {
   "cell_type": "code",
   "execution_count": 279,
   "id": "74b00413-5c9d-4686-b099-5de91e613864",
   "metadata": {},
   "outputs": [
    {
     "data": {
      "text/plain": [
       "array([11, 28, 27, 25, 11, 18, 14, 18, 13, 23, 12, 10, 18, 23, 11])"
      ]
     },
     "execution_count": 279,
     "metadata": {},
     "output_type": "execute_result"
    }
   ],
   "source": [
    "a=np.random.randint(10,30,size=15)\n",
    "a"
   ]
  },
  {
   "cell_type": "code",
   "execution_count": 281,
   "id": "b02f4a3d-d445-4747-b66f-bb61944bc28c",
   "metadata": {},
   "outputs": [
    {
     "data": {
      "text/plain": [
       "array([10, 11, 11, 11, 12, 13, 14, 18, 18, 18, 23, 23, 25, 27, 28])"
      ]
     },
     "execution_count": 281,
     "metadata": {},
     "output_type": "execute_result"
    }
   ],
   "source": [
    "np.sort(a)"
   ]
  },
  {
   "cell_type": "code",
   "execution_count": 283,
   "id": "1068de43-290e-4518-97c2-0f4f03233e84",
   "metadata": {},
   "outputs": [
    {
     "data": {
      "text/plain": [
       "array([[19, 22, 18, 26],\n",
       "       [28, 12, 17, 11],\n",
       "       [22, 18, 29, 19]])"
      ]
     },
     "execution_count": 283,
     "metadata": {},
     "output_type": "execute_result"
    }
   ],
   "source": [
    "a=np.random.randint(10,30,size=(3,4))\n",
    "a"
   ]
  },
  {
   "cell_type": "code",
   "execution_count": 289,
   "id": "b8509eb4-b68f-428f-8d80-159aeef8de71",
   "metadata": {},
   "outputs": [
    {
     "data": {
      "text/plain": [
       "array([[18, 19, 22, 26],\n",
       "       [11, 12, 17, 28],\n",
       "       [18, 19, 22, 29]])"
      ]
     },
     "execution_count": 289,
     "metadata": {},
     "output_type": "execute_result"
    }
   ],
   "source": [
    "np.sort(a,axis=1)"
   ]
  },
  {
   "cell_type": "code",
   "execution_count": 287,
   "id": "81c26d34-8c16-4cea-b68f-68f12610c5a8",
   "metadata": {},
   "outputs": [
    {
     "data": {
      "text/plain": [
       "array([[19, 12, 17, 11],\n",
       "       [22, 18, 18, 19],\n",
       "       [28, 22, 29, 26]])"
      ]
     },
     "execution_count": 287,
     "metadata": {},
     "output_type": "execute_result"
    }
   ],
   "source": [
    "np.sort(a,axis=0)"
   ]
  },
  {
   "cell_type": "code",
   "execution_count": 285,
   "id": "1274abe0-cf75-4d3e-aa93-88bfb57c0a73",
   "metadata": {},
   "outputs": [
    {
     "data": {
      "text/plain": [
       "array([11, 12, 17, 18, 18, 19, 19, 22, 22, 26, 28, 29])"
      ]
     },
     "execution_count": 285,
     "metadata": {},
     "output_type": "execute_result"
    }
   ],
   "source": [
    "np.sort(a, axis=None)"
   ]
  },
  {
   "cell_type": "code",
   "execution_count": null,
   "id": "510bdc3d-0b31-453b-a7bb-b0ce3789cb81",
   "metadata": {},
   "outputs": [],
   "source": []
  },
  {
   "cell_type": "markdown",
   "id": "fa615c41-e265-4c04-b659-2e33dbf3b1f5",
   "metadata": {},
   "source": [
    "### Numpy"
   ]
  },
  {
   "cell_type": "markdown",
   "id": "3dbbe485-c2cd-4f39-8891-3ad49372e04d",
   "metadata": {},
   "source": [
    "# 3D Indexing"
   ]
  },
  {
   "cell_type": "code",
   "execution_count": null,
   "id": "ea92d5db-cc32-4bcd-a49e-e97fe711d25b",
   "metadata": {},
   "outputs": [],
   "source": [
    "import numpy as np\n",
    "arr2 = np.array([[[1,2,7],[3,4,8],[5,6,9]],[[11,12,17],[13,14,18],[15,16,19]],[[10,2,70],[30,40,80],[50,60,90]]])\n",
    "print(\"Dimensions of array\",arr2.ndim)\n",
    "print(\"shape\",arr2.shape)\n",
    "print(arr2)"
   ]
  },
  {
   "cell_type": "code",
   "execution_count": null,
   "id": "c1390b25-cb5c-469c-b063-0d91b9fa9f4b",
   "metadata": {},
   "outputs": [],
   "source": [
    "arr2[0,1,1]"
   ]
  },
  {
   "cell_type": "code",
   "execution_count": null,
   "id": "16bcc82e-6243-47b5-b259-9f925424577e",
   "metadata": {},
   "outputs": [],
   "source": [
    "arr2[1,2,1]"
   ]
  },
  {
   "cell_type": "code",
   "execution_count": null,
   "id": "f74dad70-d517-4629-85cc-d936503f00bb",
   "metadata": {},
   "outputs": [],
   "source": [
    "arr2[2,2,1]"
   ]
  },
  {
   "cell_type": "code",
   "execution_count": null,
   "id": "2acfae1a-18c1-4f90-898d-6cdb1a1298c6",
   "metadata": {},
   "outputs": [],
   "source": [
    "arr2[2,0,2]"
   ]
  },
  {
   "cell_type": "code",
   "execution_count": null,
   "id": "383c2c95-fb3f-4987-9f33-0ef204024b7f",
   "metadata": {},
   "outputs": [],
   "source": [
    "arr2[2,1,0]"
   ]
  },
  {
   "cell_type": "code",
   "execution_count": null,
   "id": "1bf4274e-2680-4ef6-a971-127f94f566ba",
   "metadata": {},
   "outputs": [],
   "source": [
    "arr1 = np.array([4,5,6,7,8,9])\n",
    "print(arr1)\n",
    "print(\"Dimensions of array -->\",arr1.ndim)"
   ]
  },
  {
   "cell_type": "code",
   "execution_count": null,
   "id": "102f1bc7-a554-4ffc-ad50-588896caa852",
   "metadata": {},
   "outputs": [],
   "source": [
    "arr1 = np.array([4,5,6,7,8,9],ndmin=5)\n",
    "print(arr1)\n",
    "print(\"Dimensions of array -->\",arr1.ndim)"
   ]
  },
  {
   "cell_type": "code",
   "execution_count": null,
   "id": "f303715f-50bc-4969-b548-eb538b0d0051",
   "metadata": {},
   "outputs": [],
   "source": [
    "arr1 = np.array([4,5,6,7,8,9],ndmin=20)\n",
    "print(arr1)\n",
    "print(\"Dimensions of array -->\",arr1.ndim)"
   ]
  },
  {
   "cell_type": "code",
   "execution_count": null,
   "id": "2551507e-3200-466e-82ab-692375e6342c",
   "metadata": {},
   "outputs": [],
   "source": [
    "arr1 = np.array([[4,5],[6,7],[8,9]], ndmin = 3)\n",
    "print(arr1)\n",
    "print(\"Dimensions of array -->\",arr1.ndim)"
   ]
  },
  {
   "cell_type": "code",
   "execution_count": null,
   "id": "b7628578-81e0-46c6-b18c-d5e05373a441",
   "metadata": {},
   "outputs": [],
   "source": [
    "arr1 = np.array([[4,5],[6,7],[8,9]], ndmin = 1)\n",
    "print(arr1)\n",
    "print(\"Dimensions of array -->\",arr1.ndim)"
   ]
  },
  {
   "cell_type": "markdown",
   "id": "741678dc-bbf8-4055-948c-1db29e165c1d",
   "metadata": {},
   "source": [
    "# Reshape Function"
   ]
  },
  {
   "cell_type": "code",
   "execution_count": 291,
   "id": "5c608ae6-022f-4d19-b3d2-119c3359dd69",
   "metadata": {},
   "outputs": [],
   "source": [
    "import numpy as np"
   ]
  },
  {
   "cell_type": "code",
   "execution_count": 297,
   "id": "f70067e8-e756-41fa-bd62-f48c14b4200b",
   "metadata": {},
   "outputs": [],
   "source": [
    "arr=np.array([1,2,3,4,5,6])\n",
    "reshaped_arr=arr.reshape((2,3))"
   ]
  },
  {
   "cell_type": "code",
   "execution_count": 295,
   "id": "a1d89ca1-ed63-46f2-8914-fa6266355a7b",
   "metadata": {},
   "outputs": [
    {
     "ename": "NameError",
     "evalue": "name 'arr1' is not defined",
     "output_type": "error",
     "traceback": [
      "\u001b[1;31m---------------------------------------------------------------------------\u001b[0m",
      "\u001b[1;31mNameError\u001b[0m                                 Traceback (most recent call last)",
      "Cell \u001b[1;32mIn[295], line 2\u001b[0m\n\u001b[0;32m      1\u001b[0m arr\u001b[38;5;241m=\u001b[39mnp\u001b[38;5;241m.\u001b[39marray([\u001b[38;5;241m2\u001b[39m,\u001b[38;5;241m3\u001b[39m,\u001b[38;5;241m6\u001b[39m,\u001b[38;5;241m7\u001b[39m,\u001b[38;5;241m8\u001b[39m,\u001b[38;5;241m9\u001b[39m,\u001b[38;5;241m33\u001b[39m,\u001b[38;5;241m2\u001b[39m,\u001b[38;5;241m1\u001b[39m,\u001b[38;5;241m5\u001b[39m,\u001b[38;5;241m4\u001b[39m,\u001b[38;5;241m8\u001b[39m])\n\u001b[1;32m----> 2\u001b[0m arr1\u001b[38;5;241m=\u001b[39marr1\u001b[38;5;241m.\u001b[39mreshape(\u001b[38;5;241m4\u001b[39m,\u001b[38;5;241m3\u001b[39m)\n\u001b[0;32m      3\u001b[0m \u001b[38;5;28mprint\u001b[39m(arr1)\n\u001b[0;32m      4\u001b[0m \u001b[38;5;28mprint\u001b[39m(\u001b[38;5;124m\"\u001b[39m\u001b[38;5;124mDimesion >>\u001b[39m\u001b[38;5;124m\"\u001b[39m, arr1\u001b[38;5;241m.\u001b[39mndim)\n",
      "\u001b[1;31mNameError\u001b[0m: name 'arr1' is not defined"
     ]
    }
   ],
   "source": [
    "arr=np.array([2,3,6,7,8,9,33,2,1,5,4,8])\n",
    "arr1=arr1.reshape(4,3)\n",
    "print(arr1)\n",
    "print(\"Dimesion >>\", arr1.ndim)\n",
    "print(\"Shape >>\", arr1.shape)"
   ]
  },
  {
   "cell_type": "code",
   "execution_count": 299,
   "id": "8fccf5e7-1f4e-4698-ba16-d2420ac4c612",
   "metadata": {},
   "outputs": [
    {
     "name": "stdout",
     "output_type": "stream",
     "text": [
      "[[ 1  2  3]\n",
      " [ 4  5  6]\n",
      " [10 20 30]\n",
      " [40 50 60]]\n",
      "Dimensions >> 2\n",
      "Shape --> (4, 3)\n"
     ]
    }
   ],
   "source": [
    "arr1 = np.array([1,2,3,4,5,6,10,20,30,40,50,60])\n",
    "\n",
    "arr1 = arr1.reshape(4,3)\n",
    "print(arr1)\n",
    "print(\"Dimensions >>\",arr1.ndim)\n",
    "print(\"Shape -->\",arr1.shape)"
   ]
  },
  {
   "cell_type": "code",
   "execution_count": 301,
   "id": "2f41faf1-8642-4cd1-9d70-891337c36d30",
   "metadata": {},
   "outputs": [
    {
     "name": "stdout",
     "output_type": "stream",
     "text": [
      "[[ 1  2  3  4  5  6]\n",
      " [10 20 30 40 50 60]]\n",
      "Dimensions >> 2\n",
      "Shape --> (2, 6)\n"
     ]
    }
   ],
   "source": [
    "arr1 = np.array([1,2,3,4,5,6,10,20,30,40,50,60])\n",
    "\n",
    "arr1 = arr1.reshape(2,6)\n",
    "print(arr1)\n",
    "print(\"Dimensions >>\",arr1.ndim)\n",
    "print(\"Shape -->\",arr1.shape)"
   ]
  },
  {
   "cell_type": "code",
   "execution_count": 303,
   "id": "3a12dbfa-55a6-49b2-aea3-141a1e7d2069",
   "metadata": {},
   "outputs": [
    {
     "name": "stdout",
     "output_type": "stream",
     "text": [
      "[[ 1  2]\n",
      " [ 3  4]\n",
      " [ 5  6]\n",
      " [10 20]\n",
      " [30 40]\n",
      " [50 60]]\n",
      "Dimensions >> 2\n",
      "Shape --> (6, 2)\n"
     ]
    }
   ],
   "source": [
    "arr1 = np.array([1,2,3,4,5,6,10,20,30,40,50,60])\n",
    "\n",
    "arr1 = arr1.reshape(6,2)\n",
    "print(arr1)\n",
    "print(\"Dimensions >>\",arr1.ndim)\n",
    "print(\"Shape -->\",arr1.shape)"
   ]
  },
  {
   "cell_type": "code",
   "execution_count": 305,
   "id": "f7061c77-0d58-4d1e-b35b-01e0c9cadff6",
   "metadata": {},
   "outputs": [
    {
     "name": "stdout",
     "output_type": "stream",
     "text": [
      "[ 1  2  3  4  5  6 10 20 30 40 50 60]\n",
      "Dimensions >> 1\n",
      "Shape --> (12,)\n"
     ]
    }
   ],
   "source": [
    "arr1 = np.array([1,2,3,4,5,6,10,20,30,40,50,60])\n",
    "print(arr1)\n",
    "print(\"Dimensions >>\",arr1.ndim)\n",
    "print(\"Shape -->\",arr1.shape)"
   ]
  },
  {
   "cell_type": "code",
   "execution_count": 307,
   "id": "b4ed0da6-56d0-4f05-b598-df8203d7f040",
   "metadata": {},
   "outputs": [
    {
     "name": "stdout",
     "output_type": "stream",
     "text": [
      "[ 1  2  3  4  5  6 10 20 30 40 50 60]\n",
      "Dimensions >> 1\n",
      "Shape --> (12,)\n"
     ]
    },
    {
     "data": {
      "text/plain": [
       "[1, 2, 3, 4, 5, 6, 10, 20, 30, 40, 50, 60]"
      ]
     },
     "execution_count": 307,
     "metadata": {},
     "output_type": "execute_result"
    }
   ],
   "source": [
    "arr1 = np.array([[1,2,3,4],[5,6,10,20],[30,40,50,60]])\n",
    "\n",
    "arr1 = arr1.reshape(12,)\n",
    "print(arr1)\n",
    "print(\"Dimensions >>\",arr1.ndim)\n",
    "print(\"Shape -->\",arr1.shape)\n",
    "\n",
    "\n",
    "# Convert array into list\n",
    "l1 = list(arr1)\n",
    "l1"
   ]
  },
  {
   "cell_type": "code",
   "execution_count": 309,
   "id": "6acf4990-68bb-4118-980a-28e8cfd4e553",
   "metadata": {},
   "outputs": [
    {
     "name": "stdout",
     "output_type": "stream",
     "text": [
      "[[1 2 3 4]\n",
      " [5 6 7 8]\n",
      " [5 4 3 2]]\n",
      "[array([1, 2, 3, 4]), array([5, 6, 7, 8]), array([5, 4, 3, 2])]\n"
     ]
    }
   ],
   "source": [
    "a=np.array([[1,2,3,4],[5,6,7,8],[5,4,3,2]])\n",
    "print(a)\n",
    "l1=list(a)\n",
    "print(l1)"
   ]
  },
  {
   "cell_type": "code",
   "execution_count": 311,
   "id": "2af1326d-5392-4abf-92fc-1392e10b40f9",
   "metadata": {},
   "outputs": [
    {
     "name": "stdout",
     "output_type": "stream",
     "text": [
      "[[1 2 3 4]\n",
      " [5 6 7 8]\n",
      " [5 4 3 2]]\n",
      "[[1, 2, 3, 4], [5, 6, 7, 8], [5, 4, 3, 2]]\n"
     ]
    }
   ],
   "source": [
    "a=np.array([[1,2,3,4],[5,6,7,8],[5,4,3,2]])\n",
    "print(a)\n",
    "l1=a.tolist()\n",
    "\n",
    "print(l1)"
   ]
  },
  {
   "cell_type": "code",
   "execution_count": 313,
   "id": "a38160b7-dd7c-4cc8-9221-b85a2a0b67ef",
   "metadata": {},
   "outputs": [
    {
     "data": {
      "text/plain": [
       "[[4, 5, 6, 7, 8, 2, 3]]"
      ]
     },
     "execution_count": 313,
     "metadata": {},
     "output_type": "execute_result"
    }
   ],
   "source": [
    "aa=([[4,5,6,7,8,2,3]])\n",
    "aa"
   ]
  },
  {
   "cell_type": "code",
   "execution_count": 315,
   "id": "905b06de-7d65-4ab7-8a52-6b1f7318fe2a",
   "metadata": {},
   "outputs": [
    {
     "ename": "AttributeError",
     "evalue": "'list' object has no attribute 'tolist'",
     "output_type": "error",
     "traceback": [
      "\u001b[1;31m---------------------------------------------------------------------------\u001b[0m",
      "\u001b[1;31mAttributeError\u001b[0m                            Traceback (most recent call last)",
      "Cell \u001b[1;32mIn[315], line 1\u001b[0m\n\u001b[1;32m----> 1\u001b[0m l1\u001b[38;5;241m=\u001b[39maa\u001b[38;5;241m.\u001b[39mtolist()\n\u001b[0;32m      2\u001b[0m l1\n",
      "\u001b[1;31mAttributeError\u001b[0m: 'list' object has no attribute 'tolist'"
     ]
    }
   ],
   "source": [
    "l1=aa.tolist()\n",
    "l1"
   ]
  },
  {
   "cell_type": "code",
   "execution_count": 317,
   "id": "de19a50f-d3ee-4817-9af3-3d4f0da952fa",
   "metadata": {},
   "outputs": [
    {
     "data": {
      "text/plain": [
       "[6, 8, 10, 12, 14, 16]"
      ]
     },
     "execution_count": 317,
     "metadata": {},
     "output_type": "execute_result"
    }
   ],
   "source": [
    "l1=[3,4,5,6,7,8]\n",
    "a=np.array(l1)\n",
    "arr=a*2\n",
    "result=arr.tolist()\n",
    "result"
   ]
  },
  {
   "cell_type": "code",
   "execution_count": 319,
   "id": "03ad5d04-d025-4674-a41b-d352d58e5fd4",
   "metadata": {},
   "outputs": [
    {
     "data": {
      "text/plain": [
       "[4, 9, 16, 25, 36]"
      ]
     },
     "execution_count": 319,
     "metadata": {},
     "output_type": "execute_result"
    }
   ],
   "source": [
    "l1=[2,3,4,5,6]\n",
    "a1=np.array(l1)\n",
    "q=a1**2\n",
    "s=q.tolist()\n",
    "s"
   ]
  },
  {
   "cell_type": "code",
   "execution_count": 321,
   "id": "2990545a-83e0-4e37-8106-5437a482ab1b",
   "metadata": {},
   "outputs": [
    {
     "data": {
      "text/plain": [
       "array([ 9, 11, 13,  9])"
      ]
     },
     "execution_count": 321,
     "metadata": {},
     "output_type": "execute_result"
    }
   ],
   "source": [
    "a1=np.array([3,4,5,6])\n",
    "a2=np.array([6,7,8,3])\n",
    "a1+a2"
   ]
  },
  {
   "cell_type": "code",
   "execution_count": 123,
   "id": "247c54b8-ca41-4acc-b23e-8f5293c52fda",
   "metadata": {},
   "outputs": [
    {
     "data": {
      "text/plain": [
       "array([ 9, 11, 13,  9])"
      ]
     },
     "execution_count": 123,
     "metadata": {},
     "output_type": "execute_result"
    }
   ],
   "source": [
    "a1=np.array([3,4,5,6])\n",
    "a2=np.array([6,7,8,3])\n",
    "np.add(a1,a2)"
   ]
  },
  {
   "cell_type": "code",
   "execution_count": 125,
   "id": "f2cf0f35-bf96-485f-b4ee-184ab613dca0",
   "metadata": {},
   "outputs": [
    {
     "data": {
      "text/plain": [
       "array([18, 28, 40, 18])"
      ]
     },
     "execution_count": 125,
     "metadata": {},
     "output_type": "execute_result"
    }
   ],
   "source": [
    "a1=np.array([3,4,5,6])\n",
    "a2=np.array([6,7,8,3])\n",
    "a1*a2"
   ]
  },
  {
   "cell_type": "code",
   "execution_count": 131,
   "id": "7a55fa9f-15ae-4bc8-a45d-e354813257d6",
   "metadata": {},
   "outputs": [
    {
     "data": {
      "text/plain": [
       "array([18, 28, 40, 18])"
      ]
     },
     "execution_count": 131,
     "metadata": {},
     "output_type": "execute_result"
    }
   ],
   "source": [
    "a1=np.array([3,4,5,6])\n",
    "a2=np.array([6,7,8,3])\n",
    "np.multiply(a1,a2)"
   ]
  },
  {
   "cell_type": "code",
   "execution_count": 133,
   "id": "a196e552-6827-4f8f-9613-2ab4759486a2",
   "metadata": {},
   "outputs": [
    {
     "data": {
      "text/plain": [
       "45"
      ]
     },
     "execution_count": 133,
     "metadata": {},
     "output_type": "execute_result"
    }
   ],
   "source": [
    "a1=np.array([[1,2,3],[4,5,6],[7,8,9]])\n",
    "np.sum(a1)"
   ]
  },
  {
   "cell_type": "code",
   "execution_count": 135,
   "id": "58e6c7c7-4484-4a99-a8df-e8aef5008407",
   "metadata": {},
   "outputs": [
    {
     "data": {
      "text/plain": [
       "array([[15, 23],\n",
       "       [52, 63]])"
      ]
     },
     "execution_count": 135,
     "metadata": {},
     "output_type": "execute_result"
    }
   ],
   "source": [
    "# Matrix Addition\n",
    "a1=np.array([[10,20],[44,54]])\n",
    "a2=np.array([[5,3],[8,9]])\n",
    "\n",
    "np.add(a1,a2)"
   ]
  },
  {
   "cell_type": "code",
   "execution_count": 137,
   "id": "b412ddcb-9bdf-4f93-8287-4d8fae47e2f9",
   "metadata": {},
   "outputs": [
    {
     "name": "stdout",
     "output_type": "stream",
     "text": [
      "Array1\n",
      " [[3, 4], [5, 7], [8, 9]]\n",
      "Array2\n",
      " [[6, 7], [4, 5], [3, 2]]\n"
     ]
    },
    {
     "data": {
      "text/plain": [
       "array([[18, 28],\n",
       "       [20, 35],\n",
       "       [24, 18]])"
      ]
     },
     "execution_count": 137,
     "metadata": {},
     "output_type": "execute_result"
    }
   ],
   "source": [
    "# Matrix Multiplication\n",
    "\n",
    "a1=([[3,4],[5,7],[8,9]])\n",
    "a2=([[6,7],[4,5],[3,2]])\n",
    "print(\"Array1\\n\",a1)\n",
    "print(\"Array2\\n\",a2)\n",
    "np.multiply(a1,a2)"
   ]
  },
  {
   "cell_type": "code",
   "execution_count": 139,
   "id": "fd821c25-f769-4455-921c-096a87dd2a55",
   "metadata": {},
   "outputs": [
    {
     "name": "stdout",
     "output_type": "stream",
     "text": [
      "Array1\n",
      " [[3, 4], [5, 7]]\n",
      "Array2\n",
      " [[6, 7], [4, 5]]\n"
     ]
    },
    {
     "data": {
      "text/plain": [
       "array([[34, 41],\n",
       "       [58, 70]])"
      ]
     },
     "execution_count": 139,
     "metadata": {},
     "output_type": "execute_result"
    }
   ],
   "source": [
    "# dot product\n",
    "\n",
    "a1=([[3,4],[5,7]])\n",
    "a2=([[6,7],[4,5]])\n",
    "print(\"Array1\\n\",a1)\n",
    "print(\"Array2\\n\",a2)\n",
    "np.dot(a1,a2)"
   ]
  },
  {
   "cell_type": "code",
   "execution_count": 141,
   "id": "fa5ae37c-ef07-4af9-a2f7-2d1c458b7839",
   "metadata": {},
   "outputs": [
    {
     "name": "stdout",
     "output_type": "stream",
     "text": [
      "Array1\n",
      " [[3, 4], [5, 7], [4, 5]]\n",
      "Array2\n",
      " [[6, 7], [4, 5]]\n"
     ]
    },
    {
     "data": {
      "text/plain": [
       "array([[34, 41],\n",
       "       [58, 70],\n",
       "       [44, 53]])"
      ]
     },
     "execution_count": 141,
     "metadata": {},
     "output_type": "execute_result"
    }
   ],
   "source": [
    "a1=([[3,4],[5,7],[4,5]])\n",
    "a2=([[6,7],[4,5]])\n",
    "print(\"Array1\\n\",a1)\n",
    "print(\"Array2\\n\",a2)\n",
    "np.dot(a1,a2)"
   ]
  },
  {
   "cell_type": "code",
   "execution_count": 143,
   "id": "3cb3486a-dc85-4d76-8584-5c2c4f49da6d",
   "metadata": {},
   "outputs": [
    {
     "name": "stdout",
     "output_type": "stream",
     "text": [
      "Array1\n",
      " [[3, 4], [5, 7], [4, 5], [5, 6]]\n",
      "Array2\n",
      " [[6, 7], [4, 5], [3, 4]]\n"
     ]
    },
    {
     "ename": "ValueError",
     "evalue": "shapes (4,2) and (3,2) not aligned: 2 (dim 1) != 3 (dim 0)",
     "output_type": "error",
     "traceback": [
      "\u001b[1;31m---------------------------------------------------------------------------\u001b[0m",
      "\u001b[1;31mValueError\u001b[0m                                Traceback (most recent call last)",
      "Cell \u001b[1;32mIn[143], line 5\u001b[0m\n\u001b[0;32m      3\u001b[0m \u001b[38;5;28mprint\u001b[39m(\u001b[38;5;124m\"\u001b[39m\u001b[38;5;124mArray1\u001b[39m\u001b[38;5;130;01m\\n\u001b[39;00m\u001b[38;5;124m\"\u001b[39m,a1)\n\u001b[0;32m      4\u001b[0m \u001b[38;5;28mprint\u001b[39m(\u001b[38;5;124m\"\u001b[39m\u001b[38;5;124mArray2\u001b[39m\u001b[38;5;130;01m\\n\u001b[39;00m\u001b[38;5;124m\"\u001b[39m,a2)\n\u001b[1;32m----> 5\u001b[0m np\u001b[38;5;241m.\u001b[39mdot(a1,a2)\n",
      "\u001b[1;31mValueError\u001b[0m: shapes (4,2) and (3,2) not aligned: 2 (dim 1) != 3 (dim 0)"
     ]
    }
   ],
   "source": [
    "a1=([[3,4],[5,7],[4,5],[5,6]])\n",
    "a2=([[6,7],[4,5],[3,4]])\n",
    "print(\"Array1\\n\",a1)\n",
    "print(\"Array2\\n\",a2)\n",
    "np.dot(a1,a2)"
   ]
  },
  {
   "cell_type": "code",
   "execution_count": 145,
   "id": "843985c8-143c-448f-96eb-5d614d622f5c",
   "metadata": {},
   "outputs": [
    {
     "data": {
      "text/plain": [
       "array([[16, 12],\n",
       "       [16, 16]])"
      ]
     },
     "execution_count": 145,
     "metadata": {},
     "output_type": "execute_result"
    }
   ],
   "source": [
    "a1=np.array([[3,4],[5,7],[4,5]])\n",
    "a2=np.array([[6,7],[4,5],[3,4]])\n",
    "a3=np.array([[2,3],[4,2]])\n",
    "np.dot(a1,a3)\n",
    "np.dot(a3,a3)"
   ]
  },
  {
   "cell_type": "markdown",
   "id": "e6b89ef9-403e-49c1-a679-53061eedbb6e",
   "metadata": {},
   "source": [
    "# Stastistical Function"
   ]
  },
  {
   "cell_type": "code",
   "execution_count": 147,
   "id": "9cae24e9-78da-4de9-9db1-1725bcee25a2",
   "metadata": {},
   "outputs": [
    {
     "data": {
      "text/plain": [
       "array([7, 4, 6, 8, 7])"
      ]
     },
     "execution_count": 147,
     "metadata": {},
     "output_type": "execute_result"
    }
   ],
   "source": [
    "a=np.random.randint(3,9,size=5)\n",
    "a"
   ]
  },
  {
   "cell_type": "code",
   "execution_count": 149,
   "id": "7738b279-9a76-4c90-92e9-d7356d9810ca",
   "metadata": {},
   "outputs": [
    {
     "data": {
      "text/plain": [
       "6.4"
      ]
     },
     "execution_count": 149,
     "metadata": {},
     "output_type": "execute_result"
    }
   ],
   "source": [
    "np.mean(a)"
   ]
  },
  {
   "cell_type": "code",
   "execution_count": 151,
   "id": "81b9025e-3986-41b9-aa7b-3c0668ea7ba1",
   "metadata": {},
   "outputs": [
    {
     "data": {
      "text/plain": [
       "array([16, 24,  8, 11, 13, 14, 13, 13, 16, 18,  9,  9, 18, 23, 20])"
      ]
     },
     "execution_count": 151,
     "metadata": {},
     "output_type": "execute_result"
    }
   ],
   "source": [
    "v=np.random.randint(8,30,size=15)\n",
    "v"
   ]
  },
  {
   "cell_type": "code",
   "execution_count": 153,
   "id": "446198ed-e4b3-4d7f-8a79-0fcb582f6c4c",
   "metadata": {},
   "outputs": [
    {
     "data": {
      "text/plain": [
       "15.0"
      ]
     },
     "execution_count": 153,
     "metadata": {},
     "output_type": "execute_result"
    }
   ],
   "source": [
    "np.mean(v)"
   ]
  },
  {
   "cell_type": "code",
   "execution_count": 155,
   "id": "6dc9e444-da05-4e9e-9166-7041b82d42a2",
   "metadata": {},
   "outputs": [
    {
     "data": {
      "text/plain": [
       "5.5"
      ]
     },
     "execution_count": 155,
     "metadata": {},
     "output_type": "execute_result"
    }
   ],
   "source": [
    "a=np.array([4,5,6,7])\n",
    "np.median(a)"
   ]
  },
  {
   "cell_type": "code",
   "execution_count": 157,
   "id": "51adf9d7-2eb3-49d8-aa1e-6b4095fb8269",
   "metadata": {},
   "outputs": [
    {
     "name": "stdout",
     "output_type": "stream",
     "text": [
      "[3, 4, 8, 3, 2]\n"
     ]
    },
    {
     "data": {
      "text/plain": [
       "3.0"
      ]
     },
     "execution_count": 157,
     "metadata": {},
     "output_type": "execute_result"
    }
   ],
   "source": [
    "n=([3,4,8,3,2])\n",
    "print(n)\n",
    "np.median(n)"
   ]
  },
  {
   "cell_type": "markdown",
   "id": "a7a7d7c0-ab2f-437f-b434-a95bfe6aa331",
   "metadata": {},
   "source": [
    "# 3. Std"
   ]
  },
  {
   "cell_type": "code",
   "execution_count": 159,
   "id": "56fa8cf0-6f5a-45e8-b99a-1783dd0755aa",
   "metadata": {},
   "outputs": [
    {
     "data": {
      "text/plain": [
       "array([ 2,  3,  4,  5,  7,  8,  9,  3,  2, 21,  4, 32,  4,  4,  2,  4,  4,\n",
       "        4, 33])"
      ]
     },
     "execution_count": 159,
     "metadata": {},
     "output_type": "execute_result"
    }
   ],
   "source": [
    "arr=np.array([2,3,4,5,7,8,9,3,2,21,4,32,4,4,2,4,4,4,33])\n",
    "arr"
   ]
  },
  {
   "cell_type": "code",
   "execution_count": 161,
   "id": "d6adb375-1b4d-4545-a1e9-0e29c515985e",
   "metadata": {},
   "outputs": [
    {
     "data": {
      "text/plain": [
       "9.320397314180488"
      ]
     },
     "execution_count": 161,
     "metadata": {},
     "output_type": "execute_result"
    }
   ],
   "source": [
    "std=np.std(arr)\n",
    "std"
   ]
  },
  {
   "cell_type": "code",
   "execution_count": 163,
   "id": "7fdc5305-d696-4245-964b-fada18070d76",
   "metadata": {},
   "outputs": [
    {
     "data": {
      "text/plain": [
       "8.157894736842104"
      ]
     },
     "execution_count": 163,
     "metadata": {},
     "output_type": "execute_result"
    }
   ],
   "source": [
    "np.mean(arr)"
   ]
  },
  {
   "cell_type": "code",
   "execution_count": 165,
   "id": "20ba3254-0895-4e1e-8710-2d1f9cf3b213",
   "metadata": {},
   "outputs": [
    {
     "data": {
      "text/plain": [
       "86.86980609418283"
      ]
     },
     "execution_count": 165,
     "metadata": {},
     "output_type": "execute_result"
    }
   ],
   "source": [
    "var=np.var(arr)\n",
    "var"
   ]
  },
  {
   "cell_type": "code",
   "execution_count": 167,
   "id": "d87a223c-dbbc-4535-a262-c6b95f655d66",
   "metadata": {},
   "outputs": [],
   "source": [
    "from scipy import stats"
   ]
  },
  {
   "cell_type": "code",
   "execution_count": 168,
   "id": "f972746d-dcd6-4a78-818a-d35e7e56e838",
   "metadata": {},
   "outputs": [
    {
     "data": {
      "text/plain": [
       "4"
      ]
     },
     "execution_count": 168,
     "metadata": {},
     "output_type": "execute_result"
    }
   ],
   "source": [
    "mode=stats.mode(arr,keepdims=False)\n",
    "mode[0]"
   ]
  },
  {
   "cell_type": "markdown",
   "id": "e71b44a6-3921-411d-863b-866cc0b7b5d6",
   "metadata": {},
   "source": [
    "# Liner Algebra Function"
   ]
  },
  {
   "cell_type": "code",
   "execution_count": 171,
   "id": "620d1b1f-4663-463c-a663-915578ac6901",
   "metadata": {},
   "outputs": [],
   "source": [
    "import numpy as np"
   ]
  },
  {
   "cell_type": "code",
   "execution_count": 173,
   "id": "f1aaea7c-fc27-441f-ab7b-115f56db85e8",
   "metadata": {},
   "outputs": [
    {
     "data": {
      "text/plain": [
       "array([[ 5, 12],\n",
       "       [21, 24]])"
      ]
     },
     "execution_count": 173,
     "metadata": {},
     "output_type": "execute_result"
    }
   ],
   "source": [
    "A=np.array([[1,2],[3,4]])\n",
    "B=np.array([[5,6],[7,6]])\n",
    "np.multiply(A,B)"
   ]
  },
  {
   "cell_type": "code",
   "execution_count": 175,
   "id": "bd2f3e1b-9da1-4a54-834f-be1ce13b5943",
   "metadata": {},
   "outputs": [
    {
     "data": {
      "text/plain": [
       "array([[19, 18],\n",
       "       [43, 42]])"
      ]
     },
     "execution_count": 175,
     "metadata": {},
     "output_type": "execute_result"
    }
   ],
   "source": [
    "A=np.array([[1,2],[3,4]])\n",
    "B=np.array([[5,6],[7,6]])\n",
    "np.dot(A,B)"
   ]
  },
  {
   "cell_type": "code",
   "execution_count": 177,
   "id": "123642e1-0b10-428e-b2c0-5874ba1c1542",
   "metadata": {},
   "outputs": [],
   "source": [
    "import numpy as np"
   ]
  },
  {
   "cell_type": "code",
   "execution_count": null,
   "id": "84a03b9a-cbeb-4ae5-8361-8e487a9f6dab",
   "metadata": {},
   "outputs": [],
   "source": [
    "# Transpose matrix"
   ]
  },
  {
   "cell_type": "code",
   "execution_count": 179,
   "id": "ed9451f3-6c01-4c21-8f3f-4799bd1f9b58",
   "metadata": {},
   "outputs": [
    {
     "name": "stdout",
     "output_type": "stream",
     "text": [
      "A--\n",
      " [[3 4]\n",
      " [5 6]]\n",
      "B---\n",
      " [15 20]\n"
     ]
    }
   ],
   "source": [
    "A=np.array([[3,4],[5,6]])\n",
    "B=np.array([15,20])\n",
    "print(\"A--\\n\",A)\n",
    "print(\"B---\\n\",B)"
   ]
  },
  {
   "cell_type": "code",
   "execution_count": 181,
   "id": "8b1a67d8-d35e-4376-b186-3facd9dd1889",
   "metadata": {},
   "outputs": [
    {
     "data": {
      "text/plain": [
       "array([-5. ,  7.5])"
      ]
     },
     "execution_count": 181,
     "metadata": {},
     "output_type": "execute_result"
    }
   ],
   "source": [
    "np.linalg.solve(A,B)"
   ]
  },
  {
   "cell_type": "code",
   "execution_count": 183,
   "id": "a3c28a59-2c87-45aa-abac-3f60f51b080c",
   "metadata": {},
   "outputs": [
    {
     "data": {
      "text/plain": [
       "array([[-3. ,  2. ],\n",
       "       [ 2.5, -1.5]])"
      ]
     },
     "execution_count": 183,
     "metadata": {},
     "output_type": "execute_result"
    }
   ],
   "source": [
    "# Inverse\n",
    "\n",
    "np.linalg.inv(A)"
   ]
  },
  {
   "cell_type": "code",
   "execution_count": 185,
   "id": "54d8cc49-bde2-4e20-9c37-88c714e4e554",
   "metadata": {},
   "outputs": [],
   "source": [
    "A= np.array([[2,3,5],[3,-5,7],[4,2,10]])\n",
    "B= np.array([10,15,30])"
   ]
  },
  {
   "cell_type": "code",
   "execution_count": 187,
   "id": "b2d7346e-1044-431b-9e05-6a9c6b380fd0",
   "metadata": {},
   "outputs": [
    {
     "data": {
      "text/plain": [
       "array([-110. ,   -2.5,   47.5])"
      ]
     },
     "execution_count": 187,
     "metadata": {},
     "output_type": "execute_result"
    }
   ],
   "source": [
    "np.linalg.solve(A,B)"
   ]
  },
  {
   "cell_type": "code",
   "execution_count": 189,
   "id": "b651d3b3-da5e-480f-b863-57cbde211cac",
   "metadata": {},
   "outputs": [
    {
     "data": {
      "text/plain": [
       "array([[ 16.  ,   5.  , -11.5 ],\n",
       "       [  0.5 ,  -0.  ,  -0.25],\n",
       "       [ -6.5 ,  -2.  ,   4.75]])"
      ]
     },
     "execution_count": 189,
     "metadata": {},
     "output_type": "execute_result"
    }
   ],
   "source": [
    "np.linalg.inv(A)"
   ]
  },
  {
   "cell_type": "code",
   "execution_count": 191,
   "id": "16c4f7f6-a861-4c58-8d85-10f846421aeb",
   "metadata": {},
   "outputs": [
    {
     "data": {
      "text/plain": [
       "array([1. , 4.5])"
      ]
     },
     "execution_count": 191,
     "metadata": {},
     "output_type": "execute_result"
    }
   ],
   "source": [
    "C=np.array([[3,4],[5,6]])\n",
    "D=np.array([21,32])\n",
    "np.linalg.solve(C,D)"
   ]
  },
  {
   "cell_type": "code",
   "execution_count": 193,
   "id": "ef616223-4da9-432d-a646-d9532ab19bb0",
   "metadata": {},
   "outputs": [
    {
     "data": {
      "text/plain": [
       "array([[ 16.  ,   5.  , -11.5 ],\n",
       "       [  0.5 ,  -0.  ,  -0.25],\n",
       "       [ -6.5 ,  -2.  ,   4.75]])"
      ]
     },
     "execution_count": 193,
     "metadata": {},
     "output_type": "execute_result"
    }
   ],
   "source": [
    "np.linalg.inv(A)"
   ]
  },
  {
   "cell_type": "markdown",
   "id": "fda8fb94-b20d-4955-8a30-6844cac8306d",
   "metadata": {},
   "source": [
    "# Natural log"
   ]
  },
  {
   "cell_type": "code",
   "execution_count": 323,
   "id": "b40f9013-9c3a-4174-8882-f6c7d2ebfab1",
   "metadata": {},
   "outputs": [
    {
     "name": "stdout",
     "output_type": "stream",
     "text": [
      "0.0\n",
      "0.6931471805599453\n",
      "1.0986122886681098\n",
      "1.2237754316221157\n",
      "4.605170185988092\n",
      "nan\n",
      "0.8329091229351039\n"
     ]
    },
    {
     "name": "stderr",
     "output_type": "stream",
     "text": [
      "C:\\Users\\Admin\\AppData\\Local\\Temp\\ipykernel_17316\\1556378643.py:6: RuntimeWarning: invalid value encountered in log\n",
      "  print(np.log(-0.3))\n"
     ]
    }
   ],
   "source": [
    "print(np.log(1))\n",
    "print(np.log(2))\n",
    "print(np.log(3))\n",
    "print(np.log(3.4))\n",
    "print(np.log(100))\n",
    "print(np.log(-0.3))\n",
    "print(np.log(2.3))"
   ]
  },
  {
   "cell_type": "code",
   "execution_count": 325,
   "id": "f3509dc9-7a1f-4246-970f-d0f1113cd77a",
   "metadata": {},
   "outputs": [
    {
     "data": {
      "text/plain": [
       "array([12, 10, 13, 19, 18, 15, 17, 19, 17, 17])"
      ]
     },
     "execution_count": 325,
     "metadata": {},
     "output_type": "execute_result"
    }
   ],
   "source": [
    "a=np.random.randint(10,20,size=10)\n",
    "a"
   ]
  },
  {
   "cell_type": "code",
   "execution_count": 327,
   "id": "f77db755-eee7-46fb-a9f9-8d754283277b",
   "metadata": {},
   "outputs": [
    {
     "name": "stdout",
     "output_type": "stream",
     "text": [
      "[2.48490665 2.30258509 2.56494936 2.94443898 2.89037176 2.7080502\n",
      " 2.83321334 2.94443898 2.83321334 2.83321334]\n"
     ]
    }
   ],
   "source": [
    "print(np.log(a))"
   ]
  },
  {
   "cell_type": "markdown",
   "id": "fb88730f-b437-4bf3-80dd-97a0035c154a",
   "metadata": {},
   "source": [
    "# log to the base 10"
   ]
  },
  {
   "cell_type": "code",
   "execution_count": 329,
   "id": "2216ad14-f2c8-4de6-9983-bfb9dc6ab92e",
   "metadata": {},
   "outputs": [
    {
     "name": "stdout",
     "output_type": "stream",
     "text": [
      "0.0\n",
      "0.3010299956639812\n",
      "0.47712125471966244\n",
      "0.5314789170422551\n",
      "2.0\n",
      "0.36172783601759284\n"
     ]
    }
   ],
   "source": [
    "print(np.log10(1))\n",
    "print(np.log10(2))\n",
    "print(np.log10(3))\n",
    "print(np.log10(3.4))\n",
    "print(np.log10(100))\n",
    "print(np.log10(2.3))"
   ]
  },
  {
   "cell_type": "code",
   "execution_count": 331,
   "id": "e7a8bd4f-9e81-4d91-bde6-b6459ac80d6b",
   "metadata": {},
   "outputs": [
    {
     "data": {
      "text/plain": [
       "array([44, 30, 49, 49, 38, 44, 30, 32, 33, 40, 37, 34, 41, 38, 46])"
      ]
     },
     "execution_count": 331,
     "metadata": {},
     "output_type": "execute_result"
    }
   ],
   "source": [
    "s=np.random.randint(30,50,size=15)\n",
    "s"
   ]
  },
  {
   "cell_type": "code",
   "execution_count": 333,
   "id": "77d61dcc-1cdc-4362-ae06-57f7feea9d28",
   "metadata": {},
   "outputs": [
    {
     "name": "stdout",
     "output_type": "stream",
     "text": [
      "[1.64345268 1.47712125 1.69019608 1.69019608 1.5797836  1.64345268\n",
      " 1.47712125 1.50514998 1.51851394 1.60205999 1.56820172 1.53147892\n",
      " 1.61278386 1.5797836  1.66275783]\n"
     ]
    }
   ],
   "source": [
    "print(np.log10(s))"
   ]
  },
  {
   "cell_type": "markdown",
   "id": "0619567b-7dd0-4d84-ab3b-7e7fc33d5585",
   "metadata": {},
   "source": [
    "# log to the base 2"
   ]
  },
  {
   "cell_type": "code",
   "execution_count": 335,
   "id": "5716d289-818c-4b95-ac79-662e088a786a",
   "metadata": {},
   "outputs": [
    {
     "name": "stdout",
     "output_type": "stream",
     "text": [
      "0.0\n",
      "1.0\n",
      "1.584962500721156\n",
      "1.765534746362977\n",
      "6.643856189774724\n",
      "1.2016338611696504\n"
     ]
    }
   ],
   "source": [
    "print(np.log2(1))\n",
    "print(np.log2(2))\n",
    "print(np.log2(3))\n",
    "print(np.log2(3.4))\n",
    "print(np.log2(100))\n",
    "print(np.log2(2.3))"
   ]
  },
  {
   "cell_type": "code",
   "execution_count": 337,
   "id": "8ae5abd9-7147-4f5f-938a-b89769dfbff6",
   "metadata": {},
   "outputs": [
    {
     "data": {
      "text/plain": [
       "array([82, 96, 98, 94, 90, 90, 85, 90, 88, 84])"
      ]
     },
     "execution_count": 337,
     "metadata": {},
     "output_type": "execute_result"
    }
   ],
   "source": [
    "d=np.random.randint(80,100,size=10)\n",
    "d"
   ]
  },
  {
   "cell_type": "code",
   "execution_count": 339,
   "id": "7ec4a6bd-1621-4ca8-a429-3af7b4d331a9",
   "metadata": {},
   "outputs": [
    {
     "name": "stdout",
     "output_type": "stream",
     "text": [
      "[6.357552   6.5849625  6.61470984 6.55458885 6.4918531  6.4918531\n",
      " 6.40939094 6.4918531  6.45943162 6.39231742]\n"
     ]
    }
   ],
   "source": [
    "print(np.log2(d))"
   ]
  },
  {
   "cell_type": "markdown",
   "id": "f6271ede-87d3-4623-af76-d4e4530a6c0b",
   "metadata": {},
   "source": [
    "# Log Transformation"
   ]
  },
  {
   "cell_type": "code",
   "execution_count": 341,
   "id": "1dc897ff-7f3c-421a-a6b6-0a1281690b6f",
   "metadata": {},
   "outputs": [
    {
     "data": {
      "text/plain": [
       "array([   1,    2,    3,    4,    5,    6,  899,  544,  800, 6544])"
      ]
     },
     "execution_count": 341,
     "metadata": {},
     "output_type": "execute_result"
    }
   ],
   "source": [
    "a=np.array([1,2,3,4,5,6,899,544,800,6544])\n",
    "a"
   ]
  },
  {
   "cell_type": "code",
   "execution_count": 343,
   "id": "7fe0305a-9c7e-4190-8f56-51ed344736fc",
   "metadata": {},
   "outputs": [
    {
     "data": {
      "text/plain": [
       "array([0.        , 0.69314718, 1.09861229, 1.38629436, 1.60943791,\n",
       "       1.79175947, 6.80128303, 6.29894925, 6.68461173, 8.78630388])"
      ]
     },
     "execution_count": 343,
     "metadata": {},
     "output_type": "execute_result"
    }
   ],
   "source": [
    "np.log(a)"
   ]
  },
  {
   "cell_type": "code",
   "execution_count": 345,
   "id": "004cb025-2cb4-498b-8196-432ca0531f78",
   "metadata": {},
   "outputs": [
    {
     "data": {
      "text/plain": [
       "array([18, 18, 19, 16, 15, 19, 11, 19, 14, 16])"
      ]
     },
     "execution_count": 345,
     "metadata": {},
     "output_type": "execute_result"
    }
   ],
   "source": [
    "a=np.random.randint(10,20,size=10)\n",
    "a"
   ]
  },
  {
   "cell_type": "code",
   "execution_count": 347,
   "id": "cb0dafbd-f21d-48a4-b0c8-476147b9dd12",
   "metadata": {},
   "outputs": [
    {
     "data": {
      "text/plain": [
       "array([2.89037176, 2.89037176, 2.94443898, 2.77258872, 2.7080502 ,\n",
       "       2.94443898, 2.39789527, 2.94443898, 2.63905733, 2.77258872])"
      ]
     },
     "execution_count": 347,
     "metadata": {},
     "output_type": "execute_result"
    }
   ],
   "source": [
    "np.log(a)"
   ]
  },
  {
   "cell_type": "markdown",
   "id": "e69ea32a-fc97-4bc0-a863-ff8ba4aa0d89",
   "metadata": {},
   "source": [
    "# statstics Operation"
   ]
  },
  {
   "cell_type": "code",
   "execution_count": 402,
   "id": "9d7b1ea3-e48b-4cd9-b6ea-aeab0ae228d1",
   "metadata": {},
   "outputs": [
    {
     "data": {
      "text/plain": [
       "array([ 1,  3,  5,  5,  4,  3,  2,  6,  7,  7,  7,  8,  9, 54,  5,  6,  7,\n",
       "        7,  7,  7,  8,  8,  8])"
      ]
     },
     "execution_count": 402,
     "metadata": {},
     "output_type": "execute_result"
    }
   ],
   "source": [
    "a=np.array([1,3,5,5,4,3,2,6,7,7,7,8,9,54,5,6,7,7,7,7,8,8,8,])\n",
    "a"
   ]
  },
  {
   "cell_type": "code",
   "execution_count": 404,
   "id": "eb8fbb96-d368-4deb-b039-07b5a027b4ad",
   "metadata": {},
   "outputs": [
    {
     "data": {
      "text/plain": [
       "8.0"
      ]
     },
     "execution_count": 404,
     "metadata": {},
     "output_type": "execute_result"
    }
   ],
   "source": [
    "np.mean(a)"
   ]
  },
  {
   "cell_type": "code",
   "execution_count": 406,
   "id": "07e91913-6203-46a5-ae69-583d5150b50f",
   "metadata": {},
   "outputs": [
    {
     "data": {
      "text/plain": [
       "7.0"
      ]
     },
     "execution_count": 406,
     "metadata": {},
     "output_type": "execute_result"
    }
   ],
   "source": [
    "np.median(a)"
   ]
  },
  {
   "cell_type": "code",
   "execution_count": 410,
   "id": "210c4d83-12ad-4457-9cb5-be6dfa760dd0",
   "metadata": {},
   "outputs": [
    {
     "data": {
      "text/plain": [
       "10.02171555217447"
      ]
     },
     "execution_count": 410,
     "metadata": {},
     "output_type": "execute_result"
    }
   ],
   "source": [
    "np.std(a)"
   ]
  },
  {
   "cell_type": "code",
   "execution_count": 408,
   "id": "51f8b37e-8634-40a6-a474-ca434bb72303",
   "metadata": {},
   "outputs": [
    {
     "data": {
      "text/plain": [
       "100.43478260869566"
      ]
     },
     "execution_count": 408,
     "metadata": {},
     "output_type": "execute_result"
    }
   ],
   "source": [
    "np.var(a)"
   ]
  },
  {
   "cell_type": "code",
   "execution_count": 412,
   "id": "29dff6e5-1d3a-469f-adb7-85adaea9de65",
   "metadata": {},
   "outputs": [],
   "source": [
    "from scipy import stats"
   ]
  },
  {
   "cell_type": "code",
   "execution_count": 414,
   "id": "a4d1bd2f-e98f-468e-ba9f-0ed6e950b3db",
   "metadata": {},
   "outputs": [
    {
     "data": {
      "text/plain": [
       "7"
      ]
     },
     "execution_count": 414,
     "metadata": {},
     "output_type": "execute_result"
    }
   ],
   "source": [
    "mode=stats.mode(a,keepdims=False)\n",
    "mode[0]"
   ]
  },
  {
   "cell_type": "code",
   "execution_count": 416,
   "id": "ed889cff-1acb-4328-82d9-8dcb3544fc80",
   "metadata": {},
   "outputs": [
    {
     "data": {
      "text/plain": [
       "3.141592653589793"
      ]
     },
     "execution_count": 416,
     "metadata": {},
     "output_type": "execute_result"
    }
   ],
   "source": [
    "np.pi"
   ]
  },
  {
   "cell_type": "code",
   "execution_count": 418,
   "id": "78651d66-5766-47e7-8a79-9ccfd3b751e9",
   "metadata": {},
   "outputs": [],
   "source": [
    "import numpy as np"
   ]
  },
  {
   "cell_type": "code",
   "execution_count": 420,
   "id": "0744a894-1ead-49d1-8f98-6443e2fb36d2",
   "metadata": {},
   "outputs": [
    {
     "data": {
      "text/plain": [
       "3.141592653589793"
      ]
     },
     "execution_count": 420,
     "metadata": {},
     "output_type": "execute_result"
    }
   ],
   "source": [
    "np.pi"
   ]
  },
  {
   "cell_type": "code",
   "execution_count": 422,
   "id": "ed793a7b-1d6e-46d5-81fe-4337e9e79580",
   "metadata": {},
   "outputs": [
    {
     "data": {
      "text/plain": [
       "0.8660254037844386"
      ]
     },
     "execution_count": 422,
     "metadata": {},
     "output_type": "execute_result"
    }
   ],
   "source": [
    "np.sin(np.pi/3)"
   ]
  },
  {
   "cell_type": "code",
   "execution_count": 424,
   "id": "5db1d490-3e05-4624-926d-37e2d37f1f56",
   "metadata": {},
   "outputs": [
    {
     "data": {
      "text/plain": [
       "0.5000000000000001"
      ]
     },
     "execution_count": 424,
     "metadata": {},
     "output_type": "execute_result"
    }
   ],
   "source": [
    "np.cos(np.pi/3)"
   ]
  },
  {
   "cell_type": "code",
   "execution_count": 426,
   "id": "8640f0b2-bacb-40a9-b97f-5c72d0519687",
   "metadata": {},
   "outputs": [
    {
     "name": "stdout",
     "output_type": "stream",
     "text": [
      "0.5235987755982988\n"
     ]
    }
   ],
   "source": [
    "tan45=(np.pi/6)\n",
    "print(tan45)"
   ]
  },
  {
   "cell_type": "code",
   "execution_count": null,
   "id": "e510d13e-b261-4981-977c-a7075f74db9a",
   "metadata": {},
   "outputs": [],
   "source": [
    "sin=opp/hyp\n",
    "cos=adj/hyp\n",
    "tan=opp/hyp"
   ]
  },
  {
   "cell_type": "code",
   "execution_count": 430,
   "id": "aa8ce38b-d95d-453d-b79c-45e6aedb28e6",
   "metadata": {},
   "outputs": [
    {
     "data": {
      "text/plain": [
       "0.5235987755982988"
      ]
     },
     "execution_count": 430,
     "metadata": {},
     "output_type": "execute_result"
    }
   ],
   "source": [
    "sin30=(np.pi/6)\n",
    "sin30"
   ]
  },
  {
   "cell_type": "code",
   "execution_count": 432,
   "id": "c851049f-18ff-4733-bb01-b5783e86ae81",
   "metadata": {},
   "outputs": [
    {
     "data": {
      "text/plain": [
       "0.7853981633974483"
      ]
     },
     "execution_count": 432,
     "metadata": {},
     "output_type": "execute_result"
    }
   ],
   "source": [
    "sin45=(np.pi/4)\n",
    "sin45"
   ]
  },
  {
   "cell_type": "code",
   "execution_count": 434,
   "id": "dcfdccdb-82e9-4511-bf84-704a98892d7c",
   "metadata": {},
   "outputs": [
    {
     "data": {
      "text/plain": [
       "0.7853981633974483"
      ]
     },
     "execution_count": 434,
     "metadata": {},
     "output_type": "execute_result"
    }
   ],
   "source": [
    "sin45=(np.pi/4)\n",
    "sin45"
   ]
  },
  {
   "cell_type": "code",
   "execution_count": 436,
   "id": "fa70e585-2345-425f-b1bd-fe5bef9c0d0c",
   "metadata": {},
   "outputs": [
    {
     "data": {
      "text/plain": [
       "0.5235987755982988"
      ]
     },
     "execution_count": 436,
     "metadata": {},
     "output_type": "execute_result"
    }
   ],
   "source": [
    "sin30=np.pi/6\n",
    "sin30"
   ]
  },
  {
   "cell_type": "markdown",
   "id": "c9c466db-9a65-47af-a0c0-6b1321375433",
   "metadata": {},
   "source": [
    "# Convert into degree into radian"
   ]
  },
  {
   "cell_type": "code",
   "execution_count": 438,
   "id": "bd82f6ee-6ad4-4e8c-82b5-d467cc89807f",
   "metadata": {},
   "outputs": [
    {
     "data": {
      "text/plain": [
       "array([0.        , 0.52359878, 0.78539816, 1.04719755, 1.57079633,\n",
       "       3.14159265])"
      ]
     },
     "execution_count": 438,
     "metadata": {},
     "output_type": "execute_result"
    }
   ],
   "source": [
    "a=np.array(([0,30,45,60,90,180]))\n",
    "degree=np.deg2rad(a)\n",
    "degree"
   ]
  },
  {
   "cell_type": "code",
   "execution_count": 440,
   "id": "101144dd-9ef6-4669-9eb6-1df721f5483f",
   "metadata": {},
   "outputs": [
    {
     "data": {
      "text/plain": [
       "array([[0.        , 0.52359878, 0.78539816, 1.04719755]])"
      ]
     },
     "execution_count": 440,
     "metadata": {},
     "output_type": "execute_result"
    }
   ],
   "source": [
    "c=np.array([[0,30,45,60]])\n",
    "radian=np.deg2rad(c)\n",
    "radian"
   ]
  },
  {
   "cell_type": "markdown",
   "id": "20827313-ebe6-4ab0-a5b9-0a8b9f596761",
   "metadata": {},
   "source": [
    "# radian to degree convertre"
   ]
  },
  {
   "cell_type": "code",
   "execution_count": 442,
   "id": "c8897495-4292-472f-9f1b-a228d18a4814",
   "metadata": {},
   "outputs": [
    {
     "name": "stdout",
     "output_type": "stream",
     "text": [
      "[[ 0.         30.00000025 44.99999981 59.99999993]]\n"
     ]
    }
   ],
   "source": [
    "s=np.array([[0.        , 0.52359878, 0.78539816, 1.04719755]])\n",
    "degree=np.rad2deg(s)\n",
    "print(degree)"
   ]
  },
  {
   "cell_type": "code",
   "execution_count": 444,
   "id": "66d04b64-e4df-487f-ade6-600facd65469",
   "metadata": {},
   "outputs": [
    {
     "name": "stdout",
     "output_type": "stream",
     "text": [
      "[[0.         0.5        0.70710678 0.8660254 ]]\n"
     ]
    }
   ],
   "source": [
    "s=np.array([[0.        , 0.52359878, 0.78539816, 1.04719755]])\n",
    "sin_values=np.sin(s)\n",
    "print(sin_values)"
   ]
  },
  {
   "cell_type": "code",
   "execution_count": 446,
   "id": "f1c23a80-8257-45fd-a5ae-82f948274236",
   "metadata": {},
   "outputs": [
    {
     "name": "stdout",
     "output_type": "stream",
     "text": [
      "[[1.         0.8660254  0.70710678 0.5       ]]\n"
     ]
    }
   ],
   "source": [
    "s=np.array([[0.        , 0.52359878, 0.78539816, 1.04719755]])\n",
    "cos_values=np.cos(s)\n",
    "print(cos_values)"
   ]
  },
  {
   "cell_type": "code",
   "execution_count": 448,
   "id": "e5d55fdb-38ae-4d7c-afeb-f4b3b559be62",
   "metadata": {},
   "outputs": [
    {
     "name": "stdout",
     "output_type": "stream",
     "text": [
      "[[0.         0.57735028 0.99999999 1.7320508 ]]\n"
     ]
    }
   ],
   "source": [
    "s=np.array([[0.        , 0.52359878, 0.78539816, 1.04719755]])\n",
    "tan_values=np.tan(s)\n",
    "print(tan_values)"
   ]
  },
  {
   "cell_type": "markdown",
   "id": "7681ea86-ed44-41fb-b581-564a61d4b263",
   "metadata": {},
   "source": [
    "# Append"
   ]
  },
  {
   "cell_type": "code",
   "execution_count": 396,
   "id": "b2216794-e34c-4de1-98d2-f559335f7fd8",
   "metadata": {},
   "outputs": [
    {
     "name": "stdout",
     "output_type": "stream",
     "text": [
      "[1 2 3 4 5]\n",
      "200\n",
      "[10 30 43 22 44]\n"
     ]
    }
   ],
   "source": [
    "arr1  = np.array([1,2,3,4,5])\n",
    "arr2 =np.array(200)\n",
    "arr3 =np.array([10,30,43,22,44])\n",
    "print(arr1)\n",
    "print(arr2)\n",
    "print(arr3)"
   ]
  },
  {
   "cell_type": "code",
   "execution_count": 398,
   "id": "89724d57-2198-4b46-89af-08353deb6f56",
   "metadata": {},
   "outputs": [
    {
     "data": {
      "text/plain": [
       "array([ 1,  2,  3,  4,  5, 10, 30, 43, 22, 44])"
      ]
     },
     "execution_count": 398,
     "metadata": {},
     "output_type": "execute_result"
    }
   ],
   "source": [
    "np.append(arr1,arr3)"
   ]
  },
  {
   "cell_type": "code",
   "execution_count": 400,
   "id": "06c1f08f-954a-41dc-a5ab-2c9927163f01",
   "metadata": {},
   "outputs": [
    {
     "data": {
      "text/plain": [
       "array([200,  10,  30,  43,  22,  44])"
      ]
     },
     "execution_count": 400,
     "metadata": {},
     "output_type": "execute_result"
    }
   ],
   "source": [
    "np.append(arr2,arr3)"
   ]
  },
  {
   "cell_type": "markdown",
   "id": "0c3ddcb2-53f8-4744-99ef-ee67375acb3c",
   "metadata": {},
   "source": [
    "# Flatting the array"
   ]
  },
  {
   "cell_type": "code",
   "execution_count": 390,
   "id": "1ac4e752-55e1-4f80-b9e2-0c511f0abc0c",
   "metadata": {},
   "outputs": [
    {
     "name": "stdout",
     "output_type": "stream",
     "text": [
      "array1 ===\n",
      " [[2 3]\n",
      " [4 5]]\n",
      "array2 ==\n",
      " [[5 3]\n",
      " [6 4]]\n"
     ]
    },
    {
     "data": {
      "text/plain": [
       "array([2, 3, 4, 5, 5, 3, 6, 4])"
      ]
     },
     "execution_count": 390,
     "metadata": {},
     "output_type": "execute_result"
    }
   ],
   "source": [
    "arrr1=np.array([[2,3],[4,5]])\n",
    "arr2=np.array([[5,3],[6,4]])\n",
    "print(\"array1 ===\\n\",arrr1)\n",
    "print(\"array2 ==\\n\",arr2)\n",
    "\n",
    "a=np.append(arrr1,arr2)\n",
    "a"
   ]
  },
  {
   "cell_type": "markdown",
   "id": "39cc0d5a-7d6a-4bdd-b403-0665f3da2e54",
   "metadata": {},
   "source": [
    "# Adding 2 rows"
   ]
  },
  {
   "cell_type": "code",
   "execution_count": 384,
   "id": "15b34aa2-5aa2-444b-9dd4-3de9f249bb96",
   "metadata": {},
   "outputs": [
    {
     "name": "stdout",
     "output_type": "stream",
     "text": [
      "array1-->\n",
      " [[2 3]\n",
      " [4 5]]\n",
      "array2-->\n",
      " [[5 3]\n",
      " [6 4]]\n"
     ]
    }
   ],
   "source": [
    "arrr1=np.array([[2,3],[4,5]])\n",
    "arr2=np.array([[5,3],[6,4]])\n",
    "print(\"array1-->\\n\", arrr1)\n",
    "print(\"array2-->\\n\",arr2)"
   ]
  },
  {
   "cell_type": "code",
   "execution_count": 386,
   "id": "1a2b2f2b-0f17-458f-a237-f7c8d45f202b",
   "metadata": {},
   "outputs": [
    {
     "data": {
      "text/plain": [
       "array([[2, 3],\n",
       "       [4, 5],\n",
       "       [5, 3],\n",
       "       [6, 4]])"
      ]
     },
     "execution_count": 386,
     "metadata": {},
     "output_type": "execute_result"
    }
   ],
   "source": [
    "arr=np.append(arrr1,arr2,axis=0)   # rowsise\n",
    "arr"
   ]
  },
  {
   "cell_type": "code",
   "execution_count": 388,
   "id": "f70761bf-b1e1-4f45-8762-d462f95cc19e",
   "metadata": {},
   "outputs": [
    {
     "data": {
      "text/plain": [
       "array([[2, 3, 5, 3],\n",
       "       [4, 5, 6, 4]])"
      ]
     },
     "execution_count": 388,
     "metadata": {},
     "output_type": "execute_result"
    }
   ],
   "source": [
    "arr=np.append(arrr1,arr2,axis=1)    # column wise\n",
    "arr"
   ]
  },
  {
   "cell_type": "markdown",
   "id": "65ead1f3-a3f8-4f90-8967-71e8f1dc9673",
   "metadata": {},
   "source": [
    "# Concstenate()"
   ]
  },
  {
   "cell_type": "code",
   "execution_count": 378,
   "id": "b556cc40-ff5b-49e9-b3b2-aa0fd71b3e10",
   "metadata": {},
   "outputs": [
    {
     "data": {
      "text/plain": [
       "array([[2, 3],\n",
       "       [4, 5],\n",
       "       [6, 7],\n",
       "       [8, 9]])"
      ]
     },
     "execution_count": 378,
     "metadata": {},
     "output_type": "execute_result"
    }
   ],
   "source": [
    "a23= np.array([[2,3],[4,5]])\n",
    "a34=np.array([[6,7],[8,9]])\n",
    "np.concatenate([a23,a34],axis=0)"
   ]
  },
  {
   "cell_type": "code",
   "execution_count": 380,
   "id": "b407cde9-2d05-4f0f-ab2f-dc46fc41932a",
   "metadata": {},
   "outputs": [
    {
     "data": {
      "text/plain": [
       "array([[2, 3, 6, 7],\n",
       "       [4, 5, 8, 9]])"
      ]
     },
     "execution_count": 380,
     "metadata": {},
     "output_type": "execute_result"
    }
   ],
   "source": [
    "a23= np.array([[2,3],[4,5]])\n",
    "a34=np.array([[6,7],[8,9]])\n",
    "np.concatenate([a23,a34],axis=1)"
   ]
  },
  {
   "cell_type": "code",
   "execution_count": 450,
   "id": "322f7887-51f2-4d08-b773-fe08a1f60d1d",
   "metadata": {},
   "outputs": [
    {
     "ename": "AxisError",
     "evalue": "axis 1 is out of bounds for array of dimension 1",
     "output_type": "error",
     "traceback": [
      "\u001b[1;31m---------------------------------------------------------------------------\u001b[0m",
      "\u001b[1;31mAxisError\u001b[0m                                 Traceback (most recent call last)",
      "Cell \u001b[1;32mIn[450], line 4\u001b[0m\n\u001b[0;32m      1\u001b[0m array1 \u001b[38;5;241m=\u001b[39m np\u001b[38;5;241m.\u001b[39marray([\u001b[38;5;241m3\u001b[39m,\u001b[38;5;241m2\u001b[39m,\u001b[38;5;241m4\u001b[39m,\u001b[38;5;241m5\u001b[39m])\n\u001b[0;32m      2\u001b[0m array2 \u001b[38;5;241m=\u001b[39m np\u001b[38;5;241m.\u001b[39marray([\u001b[38;5;241m10\u001b[39m,\u001b[38;5;241m20\u001b[39m,\u001b[38;5;241m30\u001b[39m,\u001b[38;5;241m40\u001b[39m])\n\u001b[1;32m----> 4\u001b[0m np\u001b[38;5;241m.\u001b[39mconcatenate([array1, array2], axis \u001b[38;5;241m=\u001b[39m \u001b[38;5;241m1\u001b[39m)\n",
      "\u001b[1;31mAxisError\u001b[0m: axis 1 is out of bounds for array of dimension 1"
     ]
    }
   ],
   "source": [
    "array1 = np.array([3,2,4,5])\n",
    "array2 = np.array([10,20,30,40])\n",
    "\n",
    "np.concatenate([array1, array2], axis = 1)  # !D arrays we can not concatenate"
   ]
  },
  {
   "cell_type": "markdown",
   "id": "be929cd0-c137-4411-a687-0e7af53cd771",
   "metadata": {},
   "source": [
    "# 1 for loop"
   ]
  },
  {
   "cell_type": "code",
   "execution_count": 376,
   "id": "546f2881-6e92-4b99-ab58-d5c7e9eacfc4",
   "metadata": {},
   "outputs": [
    {
     "name": "stdout",
     "output_type": "stream",
     "text": [
      "value is-- 1\n",
      "value is-- 2\n",
      "value is-- 3\n",
      "value is-- 4\n"
     ]
    }
   ],
   "source": [
    "array=np.array([1,2,3,4])\n",
    "for i in array:\n",
    "    print(\"value is--\",i)"
   ]
  },
  {
   "cell_type": "code",
   "execution_count": 374,
   "id": "bff2e979-13f5-4f5b-a572-7d6fd85a0e9b",
   "metadata": {},
   "outputs": [
    {
     "name": "stdout",
     "output_type": "stream",
     "text": [
      "value is-- 1\n",
      "value is-- 2\n",
      "value is-- 3\n",
      "value is-- 4\n",
      "value is-- 6\n",
      "value is-- 7\n"
     ]
    }
   ],
   "source": [
    "aa=np.array([[1,2],[3,4],[6,7]])\n",
    "for i in aa:\n",
    "    for j in i:\n",
    "        print(\"value is--\", j)"
   ]
  },
  {
   "cell_type": "code",
   "execution_count": 372,
   "id": "cca3656c-8ec7-4972-94dc-e57123e4e632",
   "metadata": {},
   "outputs": [
    {
     "name": "stdout",
     "output_type": "stream",
     "text": [
      "value is--> [1 2]\n",
      "value is--> [3 4]\n",
      "value is--> [6 7]\n"
     ]
    }
   ],
   "source": [
    "aa=np.array([[1,2],[3,4],[6,7]])\n",
    "for i in aa:\n",
    "    print(\"value is-->\",i)"
   ]
  },
  {
   "cell_type": "code",
   "execution_count": 370,
   "id": "ab6c7565-57bd-4633-8536-83efdfd89089",
   "metadata": {},
   "outputs": [
    {
     "name": "stdout",
     "output_type": "stream",
     "text": [
      "value is--> [[1 2]\n",
      " [3 4]\n",
      " [6 7]]\n",
      "value is--> [[1 2]\n",
      " [3 4]\n",
      " [6 7]]\n",
      "value is--> [[1 2]\n",
      " [3 4]\n",
      " [6 7]]\n",
      "value is--> [[1 2]\n",
      " [3 4]\n",
      " [6 7]]\n",
      "value is--> [[1 2]\n",
      " [3 4]\n",
      " [6 7]]\n",
      "value is--> [[1 2]\n",
      " [3 4]\n",
      " [6 7]]\n",
      "value is--> [[3 4]\n",
      " [6 7]\n",
      " [3 2]]\n",
      "value is--> [[3 4]\n",
      " [6 7]\n",
      " [3 2]]\n",
      "value is--> [[3 4]\n",
      " [6 7]\n",
      " [3 2]]\n",
      "value is--> [[3 4]\n",
      " [6 7]\n",
      " [3 2]]\n",
      "value is--> [[3 4]\n",
      " [6 7]\n",
      " [3 2]]\n",
      "value is--> [[3 4]\n",
      " [6 7]\n",
      " [3 2]]\n"
     ]
    }
   ],
   "source": [
    "aa=np.array([[[1,2],[3,4],[6,7]],[[3,4],[6,7],[3,2]]])\n",
    "for i in aa:\n",
    "    for j in i:\n",
    "        for k in j:\n",
    "            print(\"value is-->\",i)"
   ]
  },
  {
   "cell_type": "markdown",
   "id": "eafc4544-3cd8-4237-b40e-9a9d95498120",
   "metadata": {},
   "source": [
    "#  2 nditer"
   ]
  },
  {
   "cell_type": "code",
   "execution_count": null,
   "id": "941e36c5-c10b-4c43-a221-fe49e53b0618",
   "metadata": {},
   "outputs": [],
   "source": [
    "import numpy as np"
   ]
  },
  {
   "cell_type": "code",
   "execution_count": 368,
   "id": "5b010fd5-0e57-45a2-9c88-99ba941a15eb",
   "metadata": {},
   "outputs": [
    {
     "name": "stdout",
     "output_type": "stream",
     "text": [
      "value is--> 4\n",
      "value is--> 3\n",
      "value is--> 5\n",
      "value is--> 6\n",
      "value is--> 7\n",
      "value is--> 8\n",
      "value is--> 5\n",
      "value is--> 7\n"
     ]
    }
   ],
   "source": [
    "array=np.array([[4,3],[5,6],[7,8],[5,7]])\n",
    "\n",
    "for i in np.nditer(array):\n",
    "    print(\"value is-->\",i)"
   ]
  },
  {
   "cell_type": "markdown",
   "id": "8859e63e-6931-489a-ad7d-1e76a139283b",
   "metadata": {},
   "source": [
    "# 3 ndenumerate"
   ]
  },
  {
   "cell_type": "code",
   "execution_count": 366,
   "id": "cf40a7c4-3bf4-4258-9e34-6b67bf0bc4d5",
   "metadata": {},
   "outputs": [
    {
     "name": "stdout",
     "output_type": "stream",
     "text": [
      "value is -- ((0, 0), 3)\n",
      "value is -- ((0, 1), 2)\n",
      "value is -- ((1, 0), 7)\n",
      "value is -- ((1, 1), 6)\n",
      "value is -- ((2, 0), 8)\n",
      "value is -- ((2, 1), 9)\n",
      "value is -- ((3, 0), 6)\n",
      "value is -- ((3, 1), 6)\n"
     ]
    }
   ],
   "source": [
    "array=np.array([[3,2],[7,6],[8,9],[6,6]])\n",
    "\n",
    "for i in np. ndenumerate(array):\n",
    "    print(\"value is --\",i)"
   ]
  },
  {
   "cell_type": "code",
   "execution_count": 364,
   "id": "0c269e45-2ec7-4c7d-84fe-e45ef7371f0d",
   "metadata": {},
   "outputs": [
    {
     "name": "stdout",
     "output_type": "stream",
     "text": [
      "3.0\n",
      "2.0\n",
      "4.0\n",
      "8.0\n"
     ]
    }
   ],
   "source": [
    "print(np.ceil(2.3))\n",
    "print(np.ceil(1.4))\n",
    "print(np.ceil(3.66))\n",
    "print(np.ceil(7.8))"
   ]
  },
  {
   "cell_type": "code",
   "execution_count": 362,
   "id": "f984f007-59fe-4fd3-9a8b-b7e3f06a0f5a",
   "metadata": {},
   "outputs": [
    {
     "data": {
      "text/plain": [
       "array([[4.],\n",
       "       [8.],\n",
       "       [9.]])"
      ]
     },
     "execution_count": 362,
     "metadata": {},
     "output_type": "execute_result"
    }
   ],
   "source": [
    "np.ceil([[3.4],[7.8],[9.0]])"
   ]
  },
  {
   "cell_type": "code",
   "execution_count": 358,
   "id": "dee94cfb-3731-407c-819e-4c3e228b516d",
   "metadata": {},
   "outputs": [
    {
     "data": {
      "text/plain": [
       "array([[[ 3.,  4.],\n",
       "        [ 5.,  6.],\n",
       "        [ 7.,  8.]],\n",
       "\n",
       "       [[21., 31.],\n",
       "        [41., 51.],\n",
       "        [61., 71.]]])"
      ]
     },
     "execution_count": 358,
     "metadata": {},
     "output_type": "execute_result"
    }
   ],
   "source": [
    "rray = np.array([[[2.50,3.88],[4.76,5.48],[6.14,7.87]], [[20.45,30.48],[40.14,50.74],[60.97,70.47]]])\n",
    "\n",
    "np.ceil(rray)"
   ]
  },
  {
   "cell_type": "markdown",
   "id": "a5d240d5-0556-4841-a78d-cab1132479bb",
   "metadata": {},
   "source": [
    "# 4. np.floor"
   ]
  },
  {
   "cell_type": "code",
   "execution_count": 360,
   "id": "dad0e0e0-2a16-43b7-8404-1c2b367d2e42",
   "metadata": {},
   "outputs": [
    {
     "data": {
      "text/plain": [
       "array([[3.],\n",
       "       [7.],\n",
       "       [9.]])"
      ]
     },
     "execution_count": 360,
     "metadata": {},
     "output_type": "execute_result"
    }
   ],
   "source": [
    "np.floor([[3.4],[7.8],[9.0]])"
   ]
  },
  {
   "cell_type": "code",
   "execution_count": 356,
   "id": "b30af8ef-435e-413b-bf0d-94755f96d583",
   "metadata": {},
   "outputs": [
    {
     "name": "stdout",
     "output_type": "stream",
     "text": [
      "4.0\n",
      "3.0\n",
      "2.0\n",
      "1.0\n",
      "1.0\n"
     ]
    }
   ],
   "source": [
    "print(np.floor(4.6))\n",
    "print(np.floor(3.5))\n",
    "print(np.floor(2.3))\n",
    "print(np.floor(1.2))\n",
    "print(np.floor(1.002))"
   ]
  },
  {
   "cell_type": "code",
   "execution_count": 353,
   "id": "4ad83f5c-eba4-42b7-b15d-94e8fcdb6b9e",
   "metadata": {},
   "outputs": [
    {
     "data": {
      "text/plain": [
       "array([[[ 2.,  3.],\n",
       "        [ 4.,  5.],\n",
       "        [ 6.,  7.]],\n",
       "\n",
       "       [[20., 30.],\n",
       "        [40., 50.],\n",
       "        [60., 70.]]])"
      ]
     },
     "execution_count": 353,
     "metadata": {},
     "output_type": "execute_result"
    }
   ],
   "source": [
    "array = np.array([[[2.50,3.88],[4.76,5.48],[6.14,7.87]], [[20.45,30.48],[40.14,50.74],[60.97,70.47]]])\n",
    "\n",
    "np.floor(array)"
   ]
  },
  {
   "cell_type": "markdown",
   "id": "92794e23-2e35-4d68-8972-21f7c60e35f8",
   "metadata": {},
   "source": [
    "# 5 np.around"
   ]
  },
  {
   "cell_type": "code",
   "execution_count": 349,
   "id": "48fb7df1-139c-4790-9a3d-afb85b09c033",
   "metadata": {},
   "outputs": [
    {
     "data": {
      "text/plain": [
       "2.0"
      ]
     },
     "execution_count": 349,
     "metadata": {},
     "output_type": "execute_result"
    }
   ],
   "source": [
    "np.around(2.4356789)"
   ]
  },
  {
   "cell_type": "code",
   "execution_count": 351,
   "id": "619b3631-b1ff-41b8-802f-1e051e26125c",
   "metadata": {},
   "outputs": [
    {
     "data": {
      "text/plain": [
       "21.0"
      ]
     },
     "execution_count": 351,
     "metadata": {},
     "output_type": "execute_result"
    }
   ],
   "source": [
    "np.around(21.4954458)"
   ]
  },
  {
   "cell_type": "markdown",
   "id": "1a3303b4-692a-4652-ba4a-d87ba8b58b29",
   "metadata": {},
   "source": [
    "# 6 np.where"
   ]
  },
  {
   "cell_type": "code",
   "execution_count": 73,
   "id": "3f9c05af-45f2-41b2-b9a3-327c9a7a44be",
   "metadata": {},
   "outputs": [
    {
     "data": {
      "text/plain": [
       "[2, 6, 9]"
      ]
     },
     "execution_count": 73,
     "metadata": {},
     "output_type": "execute_result"
    }
   ],
   "source": [
    "l1 = [2,3,4,5,6,7,4,5,6,4,7]\n",
    "\n",
    "index = [i for i, v in enumerate(l1) if v == 4]\n",
    "index"
   ]
  },
  {
   "cell_type": "code",
   "execution_count": 75,
   "id": "3d103db3-636b-447b-9d29-c3ef42ed4846",
   "metadata": {},
   "outputs": [
    {
     "data": {
      "text/plain": [
       "[6]"
      ]
     },
     "execution_count": 75,
     "metadata": {},
     "output_type": "execute_result"
    }
   ],
   "source": [
    "q = [1,2,3,4,5,6,7]\n",
    "\n",
    "index = [i for i, v in enumerate(q) if v == 7]\n",
    "index"
   ]
  },
  {
   "cell_type": "code",
   "execution_count": 452,
   "id": "d24819fd-7ade-450a-84f0-62b8116ab850",
   "metadata": {},
   "outputs": [
    {
     "data": {
      "text/plain": [
       "[5, 10]"
      ]
     },
     "execution_count": 452,
     "metadata": {},
     "output_type": "execute_result"
    }
   ],
   "source": [
    "q=[2,3,4,5,6,7,4,5,6,4,7]\n",
    "\n",
    "index = [i for i, v in enumerate(q) if v == 7]\n",
    "index"
   ]
  },
  {
   "cell_type": "code",
   "execution_count": 462,
   "id": "819edf53-81c6-480c-9fe2-e9a7d3a0266b",
   "metadata": {},
   "outputs": [
    {
     "name": "stdout",
     "output_type": "stream",
     "text": [
      "[2]\n"
     ]
    }
   ],
   "source": [
    "b1= [2,3,4,5,6,78]\n",
    "array=np.array(l1)\n",
    "\n",
    "index=np.where(array==4)\n",
    "print(index[0])"
   ]
  },
  {
   "cell_type": "code",
   "execution_count": 468,
   "id": "32844739-d857-43ed-9420-535bf8835b5c",
   "metadata": {},
   "outputs": [
    {
     "name": "stdout",
     "output_type": "stream",
     "text": [
      "[0 1 2 6 9]\n"
     ]
    }
   ],
   "source": [
    "l1 = [2,3,4,5,6,7,4,5,6,4,7]\n",
    "\n",
    "array=np.array(l1)\n",
    "\n",
    "index=np.where(array<=4)\n",
    "print(index[0])"
   ]
  },
  {
   "cell_type": "markdown",
   "id": "2840bd19-6932-4aac-b2a7-080c084741bc",
   "metadata": {},
   "source": [
    "# 7. np.delete"
   ]
  },
  {
   "cell_type": "code",
   "execution_count": 475,
   "id": "e699ff63-21ec-4dcc-8dca-63d3168f4028",
   "metadata": {},
   "outputs": [
    {
     "data": {
      "text/plain": [
       "array([1, 2, 3, 4, 5, 6, 7, 8, 9])"
      ]
     },
     "execution_count": 475,
     "metadata": {},
     "output_type": "execute_result"
    }
   ],
   "source": [
    "arr=np.arange(1,10)\n",
    "arr"
   ]
  },
  {
   "cell_type": "code",
   "execution_count": 479,
   "id": "a4d91af2-e210-437d-9f81-8ed1c9350399",
   "metadata": {},
   "outputs": [
    {
     "data": {
      "text/plain": [
       "array([2, 4, 5, 6, 7, 4, 5, 6, 4, 7])"
      ]
     },
     "execution_count": 479,
     "metadata": {},
     "output_type": "execute_result"
    }
   ],
   "source": [
    "np.delete(array,1)"
   ]
  },
  {
   "cell_type": "code",
   "execution_count": 491,
   "id": "f17fa1f4-1c71-44ed-97d9-8f79fcf784fb",
   "metadata": {},
   "outputs": [
    {
     "data": {
      "text/plain": [
       "array([1, 2, 3, 4, 5, 6, 7, 8, 9])"
      ]
     },
     "execution_count": 491,
     "metadata": {},
     "output_type": "execute_result"
    }
   ],
   "source": [
    "arr=np.arange(1,10)\n",
    "arr"
   ]
  },
  {
   "cell_type": "code",
   "execution_count": 493,
   "id": "b2f29bd3-6b2b-42c9-90dd-6bfcafae45f4",
   "metadata": {},
   "outputs": [
    {
     "data": {
      "text/plain": [
       "array([1, 2, 3, 5, 7, 8, 9])"
      ]
     },
     "execution_count": 493,
     "metadata": {},
     "output_type": "execute_result"
    }
   ],
   "source": [
    "np.delete(arr,[3,5])"
   ]
  },
  {
   "cell_type": "code",
   "execution_count": 497,
   "id": "f23e32d4-3dcf-4658-a6e1-e598e394b2fa",
   "metadata": {},
   "outputs": [
    {
     "data": {
      "text/plain": [
       "array([4, 3, 2, 1, 6, 5, 7, 6])"
      ]
     },
     "execution_count": 497,
     "metadata": {},
     "output_type": "execute_result"
    }
   ],
   "source": [
    "arr1=np.array([4,3,2,1,6,5,4,8,7,6])\n",
    "np.delete(arr1,[7,6])"
   ]
  },
  {
   "cell_type": "markdown",
   "id": "413d40b4-54ce-4a76-b933-f06b30b7b0d0",
   "metadata": {},
   "source": [
    "# 8.np.max  , np.min"
   ]
  },
  {
   "cell_type": "code",
   "execution_count": 500,
   "id": "5c256035-cf79-4ac6-86eb-42a200a5f956",
   "metadata": {},
   "outputs": [
    {
     "data": {
      "text/plain": [
       "array([  2,   4,   5,   6,   7,   8, 999,  33])"
      ]
     },
     "execution_count": 500,
     "metadata": {},
     "output_type": "execute_result"
    }
   ],
   "source": [
    "arr1=np.array([2,4,5,6,7,8,999,33])\n",
    "arr1"
   ]
  },
  {
   "cell_type": "code",
   "execution_count": 502,
   "id": "460b8d73-87e1-47eb-bc9a-922ba7ed1f5f",
   "metadata": {},
   "outputs": [
    {
     "data": {
      "text/plain": [
       "999"
      ]
     },
     "execution_count": 502,
     "metadata": {},
     "output_type": "execute_result"
    }
   ],
   "source": [
    "np.max(arr1)"
   ]
  },
  {
   "cell_type": "code",
   "execution_count": 509,
   "id": "dc87f96d-1fba-44eb-8e46-b955035b579f",
   "metadata": {},
   "outputs": [
    {
     "data": {
      "text/plain": [
       "2"
      ]
     },
     "execution_count": 509,
     "metadata": {},
     "output_type": "execute_result"
    }
   ],
   "source": [
    "np.min(arr1)"
   ]
  },
  {
   "cell_type": "code",
   "execution_count": 504,
   "id": "26a6b040-5e92-4199-adef-664ac1a600f0",
   "metadata": {},
   "outputs": [
    {
     "data": {
      "text/plain": [
       "array([46, 27, 49, 35, 17, 40, 24, 42, 15, 42, 10, 49, 13, 48, 28, 22, 14,\n",
       "       11, 11, 35, 42, 36, 19, 42, 19])"
      ]
     },
     "execution_count": 504,
     "metadata": {},
     "output_type": "execute_result"
    }
   ],
   "source": [
    "arr=np.random.randint(10,50,size=25)\n",
    "arr"
   ]
  },
  {
   "cell_type": "code",
   "execution_count": 506,
   "id": "ff7542d4-a287-4b8b-bdec-f23914f8186c",
   "metadata": {},
   "outputs": [
    {
     "data": {
      "text/plain": [
       "49"
      ]
     },
     "execution_count": 506,
     "metadata": {},
     "output_type": "execute_result"
    }
   ],
   "source": [
    "np.max(arr)"
   ]
  },
  {
   "cell_type": "code",
   "execution_count": 511,
   "id": "1521da0c-be04-41e4-9205-6901758b89a2",
   "metadata": {},
   "outputs": [
    {
     "data": {
      "text/plain": [
       "10"
      ]
     },
     "execution_count": 511,
     "metadata": {},
     "output_type": "execute_result"
    }
   ],
   "source": [
    "np.min(arr)"
   ]
  },
  {
   "cell_type": "markdown",
   "id": "3b5e7b2e-ca90-4e9d-95d3-517fda3dafe9",
   "metadata": {},
   "source": [
    "# 9.np.maximum()  , np.minimum()"
   ]
  },
  {
   "cell_type": "code",
   "execution_count": 518,
   "id": "ec63d58b-5dca-4291-8aba-98f9943141f9",
   "metadata": {},
   "outputs": [],
   "source": [
    "a=np.array([23,44,65])\n",
    "b=np.array([444,999,666])\n"
   ]
  },
  {
   "cell_type": "code",
   "execution_count": 520,
   "id": "64cc36de-66a7-40c0-9b54-3f31f52941eb",
   "metadata": {},
   "outputs": [
    {
     "data": {
      "text/plain": [
       "array([23, 44, 65])"
      ]
     },
     "execution_count": 520,
     "metadata": {},
     "output_type": "execute_result"
    }
   ],
   "source": [
    "np.minimum(a,b)"
   ]
  },
  {
   "cell_type": "code",
   "execution_count": 522,
   "id": "df165cd2-08a6-41f5-93a8-ba44142f78e8",
   "metadata": {},
   "outputs": [
    {
     "data": {
      "text/plain": [
       "array([444, 999, 666])"
      ]
     },
     "execution_count": 522,
     "metadata": {},
     "output_type": "execute_result"
    }
   ],
   "source": [
    "np.maximum(a,b)"
   ]
  },
  {
   "cell_type": "markdown",
   "id": "4b40784c-d1b5-44d6-b8f8-2c36cb389e38",
   "metadata": {},
   "source": [
    "# 10.np.sort()"
   ]
  },
  {
   "cell_type": "code",
   "execution_count": 538,
   "id": "8061d35d-9b5b-4a3b-92a6-03a91dc31da9",
   "metadata": {},
   "outputs": [],
   "source": [
    "arr11=np.array([7,44,3,3,6,777,55,33,2222])"
   ]
  },
  {
   "cell_type": "code",
   "execution_count": 540,
   "id": "dbbf5386-32fb-4945-b4de-c1c86aab40c6",
   "metadata": {},
   "outputs": [
    {
     "data": {
      "text/plain": [
       "array([   3,    3,    6,    7,   33,   44,   55,  777, 2222])"
      ]
     },
     "execution_count": 540,
     "metadata": {},
     "output_type": "execute_result"
    }
   ],
   "source": [
    "np.sort(arr11)"
   ]
  },
  {
   "cell_type": "code",
   "execution_count": 542,
   "id": "5e002c4d-8c56-4bdc-afed-7ad70e2088c0",
   "metadata": {},
   "outputs": [
    {
     "data": {
      "text/plain": [
       "array([   7,   44,    3,    3,    6,  777,   55,   33, 2222])"
      ]
     },
     "execution_count": 542,
     "metadata": {},
     "output_type": "execute_result"
    }
   ],
   "source": [
    "arr=np.random.randint(20,40,size=10)\n",
    "arr11"
   ]
  },
  {
   "cell_type": "code",
   "execution_count": 544,
   "id": "9fc727e7-5ef7-435c-8684-07004934708e",
   "metadata": {},
   "outputs": [
    {
     "data": {
      "text/plain": [
       "array([   3,    3,    6,    7,   33,   44,   55,  777, 2222])"
      ]
     },
     "execution_count": 544,
     "metadata": {},
     "output_type": "execute_result"
    }
   ],
   "source": [
    "np.sort(arr11)"
   ]
  },
  {
   "cell_type": "code",
   "execution_count": 553,
   "id": "217ad30c-fc9f-4eb0-b248-d39c7a24c00b",
   "metadata": {},
   "outputs": [
    {
     "data": {
      "text/plain": [
       "array([[35, 20, 30],\n",
       "       [21, 34, 28]])"
      ]
     },
     "execution_count": 553,
     "metadata": {},
     "output_type": "execute_result"
    }
   ],
   "source": [
    "arr21=np.random.randint(20,40,size=(2,3))\n",
    "arr21"
   ]
  },
  {
   "cell_type": "markdown",
   "id": "9c51a07b-8d80-44da-8164-c4f2f80713e9",
   "metadata": {},
   "source": [
    "# 11.-np.sort(-array)"
   ]
  },
  {
   "cell_type": "code",
   "execution_count": 546,
   "id": "6cc47f54-675a-4c22-878f-0249fe70121c",
   "metadata": {},
   "outputs": [
    {
     "data": {
      "text/plain": [
       "array([2222,  777,   55,   44,   33,    7,    6,    3,    3])"
      ]
     },
     "execution_count": 546,
     "metadata": {},
     "output_type": "execute_result"
    }
   ],
   "source": [
    "-np.sort(-arr11)"
   ]
  },
  {
   "cell_type": "code",
   "execution_count": 555,
   "id": "ab165122-500e-48bc-ad6d-f2816eeea4da",
   "metadata": {},
   "outputs": [
    {
     "data": {
      "text/plain": [
       "array([[35, 30, 20],\n",
       "       [34, 28, 21]])"
      ]
     },
     "execution_count": 555,
     "metadata": {},
     "output_type": "execute_result"
    }
   ],
   "source": [
    "-np.sort(-arr21)"
   ]
  },
  {
   "cell_type": "markdown",
   "id": "f5c56a01-cfc0-4f70-ae01-c87ca833d8bc",
   "metadata": {},
   "source": [
    "# 12.np.square()"
   ]
  },
  {
   "cell_type": "code",
   "execution_count": 565,
   "id": "9f5a4acc-2bee-4a91-a7e2-7175ad0a5958",
   "metadata": {},
   "outputs": [
    {
     "data": {
      "text/plain": [
       "array([ 5,  6,  7,  8,  9, 10])"
      ]
     },
     "execution_count": 565,
     "metadata": {},
     "output_type": "execute_result"
    }
   ],
   "source": [
    "array = np.array([5,6,7,8,9,10])\n",
    "array"
   ]
  },
  {
   "cell_type": "code",
   "execution_count": 571,
   "id": "a548087a-7338-4f19-b0a8-5402b52f5e93",
   "metadata": {},
   "outputs": [
    {
     "data": {
      "text/plain": [
       "array([ 25,  36,  49,  64,  81, 100])"
      ]
     },
     "execution_count": 571,
     "metadata": {},
     "output_type": "execute_result"
    }
   ],
   "source": [
    "np.square(array)"
   ]
  },
  {
   "cell_type": "markdown",
   "id": "a91dacb2-a9d7-4ca6-80b7-949d8167fe2a",
   "metadata": {},
   "source": [
    "# 13.np.sqrt()"
   ]
  },
  {
   "cell_type": "code",
   "execution_count": 573,
   "id": "2f502a41-4732-4ac8-8ab5-c418a8d615bc",
   "metadata": {},
   "outputs": [
    {
     "data": {
      "text/plain": [
       "array([ 5,  6,  7,  8,  9, 10])"
      ]
     },
     "execution_count": 573,
     "metadata": {},
     "output_type": "execute_result"
    }
   ],
   "source": [
    "array = np.array([5,6,7,8,9,10])\n",
    "array"
   ]
  },
  {
   "cell_type": "code",
   "execution_count": 576,
   "id": "b55c6fb5-5c1c-466f-ae84-179f121df8f5",
   "metadata": {},
   "outputs": [
    {
     "data": {
      "text/plain": [
       "array([2.23606798, 2.44948974, 2.64575131, 2.82842712, 3.        ,\n",
       "       3.16227766])"
      ]
     },
     "execution_count": 576,
     "metadata": {},
     "output_type": "execute_result"
    }
   ],
   "source": [
    "np.sqrt(array)   # square root transformation"
   ]
  },
  {
   "cell_type": "markdown",
   "id": "6ae64d02-a93c-405f-9670-09f618c4909f",
   "metadata": {},
   "source": [
    "# 14.flatten()"
   ]
  },
  {
   "cell_type": "code",
   "execution_count": 579,
   "id": "ec319725-d3a8-4087-89dc-62cf1953b8eb",
   "metadata": {},
   "outputs": [
    {
     "data": {
      "text/plain": [
       "array([[2, 3, 4],\n",
       "       [5, 4, 2],\n",
       "       [9, 4, 3]])"
      ]
     },
     "execution_count": 579,
     "metadata": {},
     "output_type": "execute_result"
    }
   ],
   "source": [
    "a=np.array([[2,3,4],[5,4,2],[9,4,3]])\n",
    "a"
   ]
  },
  {
   "cell_type": "code",
   "execution_count": 581,
   "id": "e13f9262-0a54-4131-841f-6472f2cc9e3f",
   "metadata": {},
   "outputs": [
    {
     "data": {
      "text/plain": [
       "array([2, 3, 4, 5, 4, 2, 9, 4, 3])"
      ]
     },
     "execution_count": 581,
     "metadata": {},
     "output_type": "execute_result"
    }
   ],
   "source": [
    "a.flatten()"
   ]
  },
  {
   "cell_type": "code",
   "execution_count": 583,
   "id": "b8087194-6b40-4726-9113-0e4bb87625be",
   "metadata": {},
   "outputs": [
    {
     "data": {
      "text/plain": [
       "array([  2,   3,   4,   5,   6,   7,   8,   9,  10,  12,  13,  14,  15,\n",
       "        16,  17,  18,  19, 110])"
      ]
     },
     "execution_count": 583,
     "metadata": {},
     "output_type": "execute_result"
    }
   ],
   "source": [
    "array = np.array([[[2,3,4],[5,6,7],[8,9,10]], [[12,13,14],[15,16,17],[18,19,110]]])\n",
    "array.flatten()"
   ]
  },
  {
   "cell_type": "code",
   "execution_count": 587,
   "id": "971c5e3c-8cfb-4393-92eb-f25e1ce7ae02",
   "metadata": {},
   "outputs": [
    {
     "name": "stdout",
     "output_type": "stream",
     "text": [
      "[[1, 2, 3], [4, 3, 2], [5, 4, 6]] <class 'list'>\n"
     ]
    }
   ],
   "source": [
    "arr=np.array([[1,2,3],[4,3,2],[5,4,6]])\n",
    "x=arr.tolist()\n",
    "print(x,type(x))"
   ]
  },
  {
   "cell_type": "markdown",
   "id": "d5152c7a-fcee-4486-82b7-d821da148542",
   "metadata": {},
   "source": [
    "# 15.ravel()"
   ]
  },
  {
   "cell_type": "code",
   "execution_count": 590,
   "id": "a851ecd1-f350-43e1-b07c-61650ceece12",
   "metadata": {},
   "outputs": [],
   "source": [
    "array = np.array([[2,3,4],[5,6,7],[8,9,10]])\n",
    "\n",
    "a = array.ravel()\n",
    "\n",
    "a[2] = 400"
   ]
  },
  {
   "cell_type": "code",
   "execution_count": 592,
   "id": "3d2be995-d99a-44bf-a5dc-d67559a7c380",
   "metadata": {},
   "outputs": [
    {
     "name": "stdout",
     "output_type": "stream",
     "text": [
      "****************************************\n",
      "[  2   3 400   5   6   7   8   9  10]\n"
     ]
    }
   ],
   "source": [
    "print(\"*\"*40)\n",
    "print(a)"
   ]
  },
  {
   "cell_type": "code",
   "execution_count": 594,
   "id": "51d1c164-d3bd-4a85-98da-77d28176776d",
   "metadata": {},
   "outputs": [
    {
     "name": "stdout",
     "output_type": "stream",
     "text": [
      "----------------------------------------\n",
      "[[  2   3 400]\n",
      " [  5   6   7]\n",
      " [  8   9  10]]\n"
     ]
    }
   ],
   "source": [
    "print(\"-\"*40)\n",
    "\n",
    "print(array)"
   ]
  },
  {
   "cell_type": "markdown",
   "id": "09b556ed-5e45-418d-a263-9dafb3d72c22",
   "metadata": {},
   "source": [
    "# 16.np.full() "
   ]
  },
  {
   "cell_type": "code",
   "execution_count": 597,
   "id": "d0398102-271c-451d-be1f-c613383a5956",
   "metadata": {},
   "outputs": [
    {
     "data": {
      "text/plain": [
       "array([[100, 100],\n",
       "       [100, 100],\n",
       "       [100, 100],\n",
       "       [100, 100]])"
      ]
     },
     "execution_count": 597,
     "metadata": {},
     "output_type": "execute_result"
    }
   ],
   "source": [
    "np.full([4,2],100)"
   ]
  },
  {
   "cell_type": "markdown",
   "id": "d72e9505-0666-4f01-b361-d5220fa70837",
   "metadata": {},
   "source": [
    "# 17. np.power()"
   ]
  },
  {
   "cell_type": "code",
   "execution_count": 600,
   "id": "f3816e54-d898-480d-a7ee-a17425c3a875",
   "metadata": {},
   "outputs": [
    {
     "data": {
      "text/plain": [
       "array([4, 2, 3, 6, 7, 4, 3])"
      ]
     },
     "execution_count": 600,
     "metadata": {},
     "output_type": "execute_result"
    }
   ],
   "source": [
    "array=np.array([4,2,3,6,7,4,3])\n",
    "array"
   ]
  },
  {
   "cell_type": "code",
   "execution_count": 602,
   "id": "148247fa-145c-4894-8eaf-33cfd85db231",
   "metadata": {},
   "outputs": [
    {
     "data": {
      "text/plain": [
       "array([ 64,   8,  27, 216, 343,  64,  27], dtype=int32)"
      ]
     },
     "execution_count": 602,
     "metadata": {},
     "output_type": "execute_result"
    }
   ],
   "source": [
    "np.power(array,3)"
   ]
  },
  {
   "cell_type": "code",
   "execution_count": null,
   "id": "771143d4-8253-4704-b849-bc537bb37a6c",
   "metadata": {},
   "outputs": [],
   "source": []
  }
 ],
 "metadata": {
  "kernelspec": {
   "display_name": "Python 3 (ipykernel)",
   "language": "python",
   "name": "python3"
  },
  "language_info": {
   "codemirror_mode": {
    "name": "ipython",
    "version": 3
   },
   "file_extension": ".py",
   "mimetype": "text/x-python",
   "name": "python",
   "nbconvert_exporter": "python",
   "pygments_lexer": "ipython3",
   "version": "3.12.4"
  }
 },
 "nbformat": 4,
 "nbformat_minor": 5
}
