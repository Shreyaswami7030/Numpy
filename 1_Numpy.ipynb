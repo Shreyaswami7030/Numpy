{
 "cells": [
  {
   "cell_type": "code",
   "execution_count": 1,
   "id": "9dfe1a4c-7bd6-48c6-bcc6-25cfae703bc4",
   "metadata": {},
   "outputs": [
    {
     "name": "stdout",
     "output_type": "stream",
     "text": [
      "945 ns ± 37.1 ns per loop (mean ± std. dev. of 7 runs, 1,000,000 loops each)\n"
     ]
    }
   ],
   "source": [
    "%timeit [j**4 for j in range(1,9)]"
   ]
  },
  {
   "cell_type": "code",
   "execution_count": 5,
   "id": "77a46f18-61c5-4575-b207-979fe88d9c90",
   "metadata": {},
   "outputs": [
    {
     "name": "stdout",
     "output_type": "stream",
     "text": [
      "2.67 μs ± 150 ns per loop (mean ± std. dev. of 7 runs, 100,000 loops each)\n"
     ]
    }
   ],
   "source": [
    "import numpy  as np\n",
    "\n",
    "%timeit np.arange(1,9)**4"
   ]
  },
  {
   "cell_type": "markdown",
   "id": "2f0daf15-cbbd-42b4-b359-a69bedbeced2",
   "metadata": {},
   "source": [
    "# Array"
   ]
  },
  {
   "cell_type": "code",
   "execution_count": 3,
   "id": "fbaf5dc1-9948-4fb5-8025-91e7114dc179",
   "metadata": {},
   "outputs": [
    {
     "name": "stdout",
     "output_type": "stream",
     "text": [
      "[1 2 3 4 5 6]\n",
      "<class 'numpy.ndarray'>\n",
      "1\n"
     ]
    }
   ],
   "source": [
    "import numpy as np\n",
    "a=[1,2,3,4,5,6]\n",
    "b= np.array(a)\n",
    "print(b)\n",
    "print(type(b))\n",
    "print(b.ndim)"
   ]
  },
  {
   "cell_type": "code",
   "execution_count": null,
   "id": "474788c8-4187-4cd8-b1a7-e6baec7eed83",
   "metadata": {},
   "outputs": [],
   "source": []
  },
  {
   "cell_type": "code",
   "execution_count": 20,
   "id": "71ed47a3-3786-4e67-9a04-a7c4b82ba7d3",
   "metadata": {},
   "outputs": [
    {
     "name": "stdin",
     "output_type": "stream",
     "text": [
      "Enter: 4\n",
      "Enter: 3\n",
      "Enter: 2\n",
      "Enter: 2\n"
     ]
    },
    {
     "name": "stdout",
     "output_type": "stream",
     "text": [
      "[4 3 2 2]\n"
     ]
    }
   ],
   "source": [
    "l=[]\n",
    "\n",
    "for i in range(1,5):\n",
    "    a=int(input(\"Enter:\"))\n",
    "    l.append(a)\n",
    "\n",
    "print(np.array(l))"
   ]
  },
  {
   "cell_type": "code",
   "execution_count": 9,
   "id": "376f7bcb-124c-4184-baea-e3a56cc38bf8",
   "metadata": {},
   "outputs": [
    {
     "name": "stdout",
     "output_type": "stream",
     "text": [
      "[[1 2 3 4 5]\n",
      " [1 2 3 4 5]]\n",
      "2\n"
     ]
    }
   ],
   "source": [
    "a2=np.array([[1,2,3,4,5],[1,2,3,4,5]])\n",
    "print(a2)\n",
    "print(a2.ndim)"
   ]
  },
  {
   "cell_type": "code",
   "execution_count": 21,
   "id": "9ba8871a-e42c-460a-81c8-fc80926d8526",
   "metadata": {},
   "outputs": [
    {
     "name": "stdout",
     "output_type": "stream",
     "text": [
      "[[[1 2 3 4]\n",
      "  [1 2 3 4]\n",
      "  [5 6 7 8]]]\n",
      "3\n"
     ]
    }
   ],
   "source": [
    "a3=np.array([[[1,2,3,4],[1,2,3,4],[5,6,7,8]]])\n",
    "print(a3)\n",
    "print(a3.ndim)"
   ]
  },
  {
   "cell_type": "code",
   "execution_count": 31,
   "id": "aff6124d-f500-414b-83eb-4641f51e30bc",
   "metadata": {},
   "outputs": [
    {
     "name": "stdout",
     "output_type": "stream",
     "text": [
      "[[[[[[[[[[1 2 3 4 5]]]]]]]]]]\n",
      "10\n"
     ]
    }
   ],
   "source": [
    "ar=np.array([1,2,3,4,5], ndmin=10)\n",
    "print(ar)\n",
    "print(ar.ndim)\n"
   ]
  },
  {
   "cell_type": "markdown",
   "id": "3165e1a7-1ab9-46e4-9b74-85b5754aa207",
   "metadata": {},
   "source": [
    "# Zeros"
   ]
  },
  {
   "cell_type": "code",
   "execution_count": 34,
   "id": "6d0f3778-9b78-4c0f-8d7c-4d2bfcea4685",
   "metadata": {},
   "outputs": [],
   "source": [
    "import numpy as np"
   ]
  },
  {
   "cell_type": "code",
   "execution_count": 36,
   "id": "0d608bd7-9a25-45f9-8d3e-33fae00f0445",
   "metadata": {},
   "outputs": [
    {
     "name": "stdout",
     "output_type": "stream",
     "text": [
      "[0. 0. 0. 0.]\n"
     ]
    }
   ],
   "source": [
    "a_zero= np.zeros(4)\n",
    "print(a_zero)"
   ]
  },
  {
   "cell_type": "code",
   "execution_count": 46,
   "id": "b3275b8a-b78e-4657-8dac-7b192d4c4c12",
   "metadata": {},
   "outputs": [
    {
     "name": "stdout",
     "output_type": "stream",
     "text": [
      "[0. 0. 0. 0.]\n",
      "\n",
      "[[0. 0. 0. 0.]\n",
      " [0. 0. 0. 0.]\n",
      " [0. 0. 0. 0.]]\n"
     ]
    }
   ],
   "source": [
    "a_zero= np.zeros(4)\n",
    "a_zero1=np.zeros((3,4))\n",
    "print(a_zero)\n",
    "print()\n",
    "print(a_zero1)"
   ]
  },
  {
   "cell_type": "markdown",
   "id": "a1063f5a-36a5-4045-b624-de7833d7184b",
   "metadata": {},
   "source": [
    "# Ones"
   ]
  },
  {
   "cell_type": "code",
   "execution_count": 49,
   "id": "384e1095-55df-4575-b4e0-9220939a2943",
   "metadata": {},
   "outputs": [
    {
     "name": "stdout",
     "output_type": "stream",
     "text": [
      "[1. 1. 1.]\n"
     ]
    }
   ],
   "source": [
    "a_one = np.ones(3)\n",
    "print(a_one)"
   ]
  },
  {
   "cell_type": "markdown",
   "id": "eb337662-b924-471e-9853-e9b992d5ea4a",
   "metadata": {},
   "source": [
    "# Empty"
   ]
  },
  {
   "cell_type": "code",
   "execution_count": 52,
   "id": "05b5a319-523b-4646-9295-0a8672531993",
   "metadata": {},
   "outputs": [
    {
     "name": "stdout",
     "output_type": "stream",
     "text": [
      "[0. 0. 0. 0.]\n"
     ]
    }
   ],
   "source": [
    "ar_em=np.empty(4)\n",
    "print(ar_em)"
   ]
  },
  {
   "cell_type": "markdown",
   "id": "12e18f59-24de-4fa9-abeb-5ac1e17ce4d1",
   "metadata": {},
   "source": [
    "# Range"
   ]
  },
  {
   "cell_type": "code",
   "execution_count": 57,
   "id": "43a401bc-53ac-4dd1-ac93-50061ba4048f",
   "metadata": {},
   "outputs": [
    {
     "name": "stdout",
     "output_type": "stream",
     "text": [
      "[0 1 2 3]\n"
     ]
    }
   ],
   "source": [
    "ar_rn= np.arange(4)\n",
    "print(ar_rn)"
   ]
  },
  {
   "cell_type": "markdown",
   "id": "1a740574-7669-46b9-a853-f96100c909df",
   "metadata": {},
   "source": [
    "# Diag"
   ]
  },
  {
   "cell_type": "code",
   "execution_count": 60,
   "id": "fa48469f-9510-439e-96ef-e714522e3b44",
   "metadata": {},
   "outputs": [
    {
     "name": "stdout",
     "output_type": "stream",
     "text": [
      "[[1. 0. 0. 0.]\n",
      " [0. 1. 0. 0.]\n",
      " [0. 0. 1. 0.]\n",
      " [0. 0. 0. 1.]]\n"
     ]
    }
   ],
   "source": [
    "ar_dia = np.eye(4)\n",
    "print(ar_dia)"
   ]
  },
  {
   "cell_type": "code",
   "execution_count": 62,
   "id": "bfc84cbd-5fe4-45e1-b116-2d13f3fe2200",
   "metadata": {},
   "outputs": [
    {
     "name": "stdout",
     "output_type": "stream",
     "text": [
      "[[1. 0. 0. 0. 0.]\n",
      " [0. 1. 0. 0. 0.]\n",
      " [0. 0. 1. 0. 0.]\n",
      " [0. 0. 0. 1. 0.]]\n"
     ]
    }
   ],
   "source": [
    "ar_dia = np.eye(4,5)\n",
    "print(ar_dia)"
   ]
  },
  {
   "cell_type": "markdown",
   "id": "6280b43d-e4e0-445d-9452-efc6d0749f1c",
   "metadata": {},
   "source": [
    "# linspace"
   ]
  },
  {
   "cell_type": "code",
   "execution_count": 65,
   "id": "dbbe5bb3-0ce6-4d63-9fbb-dbf096f88708",
   "metadata": {},
   "outputs": [
    {
     "name": "stdout",
     "output_type": "stream",
     "text": [
      "[ 1.    3.25  5.5   7.75 10.  ]\n"
     ]
    }
   ],
   "source": [
    "ar_ln = np.linspace(1,10,num=5)\n",
    "print(ar_ln)\n"
   ]
  },
  {
   "cell_type": "code",
   "execution_count": 69,
   "id": "1167f258-f23a-448f-8414-212210656a66",
   "metadata": {},
   "outputs": [
    {
     "name": "stdout",
     "output_type": "stream",
     "text": [
      "[ 0.   2.5  5.   7.5 10. ]\n"
     ]
    }
   ],
   "source": [
    "ar_ln = np.linspace(0,10,num=5)\n",
    "print(ar_ln)"
   ]
  },
  {
   "cell_type": "code",
   "execution_count": 71,
   "id": "c94d95fd-c0c9-4922-89ea-d9dd2d7878ed",
   "metadata": {},
   "outputs": [
    {
     "name": "stdout",
     "output_type": "stream",
     "text": [
      "[ 0.  5. 10. 15. 20.]\n"
     ]
    }
   ],
   "source": [
    "ar_ln = np.linspace(0,20,num=5)\n",
    "print(ar_ln)"
   ]
  },
  {
   "cell_type": "code",
   "execution_count": null,
   "id": "16ecdd28-8570-482e-92ef-ed681f2370a8",
   "metadata": {},
   "outputs": [],
   "source": []
  }
 ],
 "metadata": {
  "kernelspec": {
   "display_name": "Python 3 (ipykernel)",
   "language": "python",
   "name": "python3"
  },
  "language_info": {
   "codemirror_mode": {
    "name": "ipython",
    "version": 3
   },
   "file_extension": ".py",
   "mimetype": "text/x-python",
   "name": "python",
   "nbconvert_exporter": "python",
   "pygments_lexer": "ipython3",
   "version": "3.12.4"
  }
 },
 "nbformat": 4,
 "nbformat_minor": 5
}
