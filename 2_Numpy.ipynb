{
 "cells": [
  {
   "cell_type": "code",
   "execution_count": 5,
   "id": "e6cdad58-b66c-46ca-bac0-9ce987190a1c",
   "metadata": {},
   "outputs": [],
   "source": [
    "import numpy as np"
   ]
  },
  {
   "cell_type": "code",
   "execution_count": 7,
   "id": "84a0494c-cc2d-429d-b6f1-bdcf9556076b",
   "metadata": {},
   "outputs": [
    {
     "name": "stdout",
     "output_type": "stream",
     "text": [
      "[1 2 3 4]\n"
     ]
    },
    {
     "data": {
      "text/plain": [
       "numpy.ndarray"
      ]
     },
     "execution_count": 7,
     "metadata": {},
     "output_type": "execute_result"
    }
   ],
   "source": [
    "a=np.array([1,2,3,4])\n",
    "print(a)\n",
    "type(a)"
   ]
  },
  {
   "cell_type": "code",
   "execution_count": 9,
   "id": "c2a8faa0-e5c7-4565-82de-887544c0a2a3",
   "metadata": {},
   "outputs": [
    {
     "name": "stdout",
     "output_type": "stream",
     "text": [
      "[1 2 3 4]\n"
     ]
    },
    {
     "data": {
      "text/plain": [
       "numpy.ndarray"
      ]
     },
     "execution_count": 9,
     "metadata": {},
     "output_type": "execute_result"
    }
   ],
   "source": [
    "a=np.array((1,2,3,4))\n",
    "print(a)\n",
    "type(a)"
   ]
  },
  {
   "cell_type": "code",
   "execution_count": 11,
   "id": "3cbc0c58-22e5-4db5-b418-5bd4fca272cb",
   "metadata": {},
   "outputs": [
    {
     "data": {
      "text/plain": [
       "array([2. +0.j, 3. +0.j, 2. +4.j, 5. +0.j, 6.5+0.j])"
      ]
     },
     "execution_count": 11,
     "metadata": {},
     "output_type": "execute_result"
    }
   ],
   "source": [
    "arr1 = np.array([2, 3, 2+4j, 5, 6.5]) # complex\n",
    "arr1"
   ]
  },
  {
   "cell_type": "code",
   "execution_count": 13,
   "id": "613f3b19-59d3-4cb0-b8cc-e7d6928153ce",
   "metadata": {},
   "outputs": [
    {
     "data": {
      "text/plain": [
       "array([1, 2, 3, 4, 5])"
      ]
     },
     "execution_count": 13,
     "metadata": {},
     "output_type": "execute_result"
    }
   ],
   "source": [
    "a=np.array([1,2,3,4,5])\n",
    "a"
   ]
  },
  {
   "cell_type": "code",
   "execution_count": 15,
   "id": "1e63cab9-ffa8-46d9-86f4-e841dee460bf",
   "metadata": {},
   "outputs": [
    {
     "data": {
      "text/plain": [
       "array([1. , 2. , 3. , 4.5, 5. ])"
      ]
     },
     "execution_count": 15,
     "metadata": {},
     "output_type": "execute_result"
    }
   ],
   "source": [
    "a=np.array([1,2,3,4.5,5])\n",
    "a"
   ]
  },
  {
   "cell_type": "code",
   "execution_count": 17,
   "id": "0e6dcbb3-be47-4390-97ed-4c992d9f9729",
   "metadata": {},
   "outputs": [
    {
     "data": {
      "text/plain": [
       "array([1.+0.j, 2.+0.j, 3.+0.j, 4.+3.j, 5.+0.j])"
      ]
     },
     "execution_count": 17,
     "metadata": {},
     "output_type": "execute_result"
    }
   ],
   "source": [
    "a=np.array([1,2,3,4+3j,5])\n",
    "a"
   ]
  },
  {
   "cell_type": "code",
   "execution_count": 19,
   "id": "23697d2d-38dc-4dcc-b178-9a0591acf395",
   "metadata": {},
   "outputs": [
    {
     "data": {
      "text/plain": [
       "array(['1', '2', '3', '4', '5', 'python'], dtype='<U11')"
      ]
     },
     "execution_count": 19,
     "metadata": {},
     "output_type": "execute_result"
    }
   ],
   "source": [
    "a=np.array([1,2,3,4,5,\"python\"])\n",
    "a"
   ]
  },
  {
   "cell_type": "code",
   "execution_count": 23,
   "id": "efc27aa3-7d30-4430-b8fe-82ba2bdd4c6e",
   "metadata": {},
   "outputs": [
    {
     "data": {
      "text/plain": [
       "array([1., 2., 3., 4., 5.])"
      ]
     },
     "execution_count": 23,
     "metadata": {},
     "output_type": "execute_result"
    }
   ],
   "source": [
    "a=np.array([1,2,3,4,5] ,dtype=\"float\")\n",
    "a"
   ]
  },
  {
   "cell_type": "code",
   "execution_count": 25,
   "id": "b6eaf00e-b502-413a-8962-69e0b11e59bb",
   "metadata": {},
   "outputs": [
    {
     "data": {
      "text/plain": [
       "array([1.+0.j, 2.+0.j, 3.+0.j, 4.+0.j, 5.+0.j])"
      ]
     },
     "execution_count": 25,
     "metadata": {},
     "output_type": "execute_result"
    }
   ],
   "source": [
    "a=np.array([1,2,3,4,5] ,dtype=\"complex\")\n",
    "a"
   ]
  },
  {
   "cell_type": "code",
   "execution_count": 29,
   "id": "ce3066ac-13d3-4bd1-ac94-9b123a059e63",
   "metadata": {},
   "outputs": [
    {
     "data": {
      "text/plain": [
       "array([1, 2, 4, 6])"
      ]
     },
     "execution_count": 29,
     "metadata": {},
     "output_type": "execute_result"
    }
   ],
   "source": [
    "a=np.array([1.2,2.4,4.5,6.7],dtype=\"int\")\n",
    "a"
   ]
  },
  {
   "cell_type": "code",
   "execution_count": 31,
   "id": "a3621cc7-5dc2-4a58-aef6-9b77289a8c4e",
   "metadata": {},
   "outputs": [
    {
     "data": {
      "text/plain": [
       "array([1.2+0.j, 2.4+0.j, 4.5+0.j, 6.7+0.j])"
      ]
     },
     "execution_count": 31,
     "metadata": {},
     "output_type": "execute_result"
    }
   ],
   "source": [
    "a=np.array([1.2,2.4,4.5,6.7],dtype=\"complex\")\n",
    "a"
   ]
  },
  {
   "cell_type": "code",
   "execution_count": 33,
   "id": "85bb1e09-0627-4a2b-b963-2ba7e3bd2c2b",
   "metadata": {},
   "outputs": [
    {
     "ename": "TypeError",
     "evalue": "int() argument must be a string, a bytes-like object or a real number, not 'complex'",
     "output_type": "error",
     "traceback": [
      "\u001b[1;31m---------------------------------------------------------------------------\u001b[0m",
      "\u001b[1;31mTypeError\u001b[0m                                 Traceback (most recent call last)",
      "Cell \u001b[1;32mIn[33], line 1\u001b[0m\n\u001b[1;32m----> 1\u001b[0m a\u001b[38;5;241m=\u001b[39mnp\u001b[38;5;241m.\u001b[39marray([\u001b[38;5;241m1.2\u001b[39m\u001b[38;5;241m+\u001b[39m\u001b[38;5;241m0.\u001b[39mj, \u001b[38;5;241m2.4\u001b[39m\u001b[38;5;241m+\u001b[39m\u001b[38;5;241m0.\u001b[39mj, \u001b[38;5;241m4.5\u001b[39m\u001b[38;5;241m+\u001b[39m\u001b[38;5;241m0.\u001b[39mj, \u001b[38;5;241m6.7\u001b[39m\u001b[38;5;241m+\u001b[39m\u001b[38;5;241m0.\u001b[39mj],dtype\u001b[38;5;241m=\u001b[39m\u001b[38;5;124m\"\u001b[39m\u001b[38;5;124mint\u001b[39m\u001b[38;5;124m\"\u001b[39m)\n\u001b[0;32m      2\u001b[0m a\n",
      "\u001b[1;31mTypeError\u001b[0m: int() argument must be a string, a bytes-like object or a real number, not 'complex'"
     ]
    }
   ],
   "source": [
    "a=np.array([1.2+0.j, 2.4+0.j, 4.5+0.j, 6.7+0.j],dtype=\"int\")\n",
    "a"
   ]
  },
  {
   "cell_type": "code",
   "execution_count": 35,
   "id": "d7fb570f-732c-419a-be49-8ddde838b115",
   "metadata": {},
   "outputs": [
    {
     "ename": "TypeError",
     "evalue": "float() argument must be a string or a real number, not 'complex'",
     "output_type": "error",
     "traceback": [
      "\u001b[1;31m---------------------------------------------------------------------------\u001b[0m",
      "\u001b[1;31mTypeError\u001b[0m                                 Traceback (most recent call last)",
      "Cell \u001b[1;32mIn[35], line 1\u001b[0m\n\u001b[1;32m----> 1\u001b[0m a\u001b[38;5;241m=\u001b[39mnp\u001b[38;5;241m.\u001b[39marray([\u001b[38;5;241m1.2\u001b[39m\u001b[38;5;241m+\u001b[39m\u001b[38;5;241m0.\u001b[39mj, \u001b[38;5;241m2.4\u001b[39m\u001b[38;5;241m+\u001b[39m\u001b[38;5;241m0.\u001b[39mj, \u001b[38;5;241m4.5\u001b[39m\u001b[38;5;241m+\u001b[39m\u001b[38;5;241m0.\u001b[39mj, \u001b[38;5;241m6.7\u001b[39m\u001b[38;5;241m+\u001b[39m\u001b[38;5;241m0.\u001b[39mj],dtype\u001b[38;5;241m=\u001b[39m\u001b[38;5;124m\"\u001b[39m\u001b[38;5;124mfloat\u001b[39m\u001b[38;5;124m\"\u001b[39m)\n\u001b[0;32m      2\u001b[0m a\n",
      "\u001b[1;31mTypeError\u001b[0m: float() argument must be a string or a real number, not 'complex'"
     ]
    }
   ],
   "source": [
    "a=np.array([1.2+0.j, 2.4+0.j, 4.5+0.j, 6.7+0.j],dtype=\"float\")\n",
    "a"
   ]
  },
  {
   "cell_type": "code",
   "execution_count": null,
   "id": "908fa9f1-a55c-4ab4-a909-cd43fd17626b",
   "metadata": {},
   "outputs": [],
   "source": []
  },
  {
   "cell_type": "code",
   "execution_count": 37,
   "id": "f0d3ec6a-bba1-4168-830f-e35e7218f78e",
   "metadata": {},
   "outputs": [
    {
     "name": "stdout",
     "output_type": "stream",
     "text": [
      "23\n",
      "dimension of array is: 0\n"
     ]
    }
   ],
   "source": [
    "a0=np.array(23)\n",
    "print(a0)\n",
    "print(\"dimension of array is:\",a0.ndim)"
   ]
  },
  {
   "cell_type": "code",
   "execution_count": 39,
   "id": "4fcd79df-b996-4977-ace2-3c549dfed235",
   "metadata": {},
   "outputs": [
    {
     "name": "stdout",
     "output_type": "stream",
     "text": [
      "shreya\n",
      "dimension of array is: 0\n"
     ]
    }
   ],
   "source": [
    "a0=np.array(\"shreya\")\n",
    "print(a0)\n",
    "print(\"dimension of array is:\",a0.ndim)"
   ]
  },
  {
   "cell_type": "code",
   "execution_count": 41,
   "id": "06bb6d86-51bd-40d5-91a0-72178c0a0c9c",
   "metadata": {},
   "outputs": [
    {
     "name": "stdout",
     "output_type": "stream",
     "text": [
      "[1 2 3 4 5]\n",
      "dimesion of array is: 1\n"
     ]
    }
   ],
   "source": [
    "a1=np.array([1,2,3,4,5])\n",
    "print(a1)\n",
    "print(\"dimesion of array is:\",a1.ndim)"
   ]
  },
  {
   "cell_type": "code",
   "execution_count": 53,
   "id": "9292238a-d098-41a8-b7c0-93a0561c4bf2",
   "metadata": {},
   "outputs": [
    {
     "name": "stdout",
     "output_type": "stream",
     "text": [
      "[1 2 3 4]\n",
      "dimesion of array is: 1\n"
     ]
    }
   ],
   "source": [
    "a1=np.array((1,2,3,4))\n",
    "print(a1)\n",
    "print(\"dimesion of array is:\",a1.ndim)"
   ]
  },
  {
   "cell_type": "code",
   "execution_count": 45,
   "id": "a1eb6458-1078-46a4-9e09-d3171872e2e4",
   "metadata": {},
   "outputs": [
    {
     "name": "stdout",
     "output_type": "stream",
     "text": [
      "[ 54.654 654.555   4.48    5.488]\n",
      "Dimension of array is: 1\n"
     ]
    }
   ],
   "source": [
    "arr = np.array([54.654, 654.555, 4.48, 5.488])\n",
    "print(arr)\n",
    "print(\"Dimension of array is:\", arr.ndim)"
   ]
  },
  {
   "cell_type": "code",
   "execution_count": 47,
   "id": "e8795c0a-0efe-42b6-aa37-9627ef1811c2",
   "metadata": {},
   "outputs": [
    {
     "name": "stdout",
     "output_type": "stream",
     "text": [
      "2\n",
      "Dimension of array is: 0\n"
     ]
    }
   ],
   "source": [
    "arr = np.array((2))\n",
    "print(arr)\n",
    "print(\"Dimension of array is:\", arr.ndim)"
   ]
  },
  {
   "cell_type": "code",
   "execution_count": 59,
   "id": "cc80dd37-ba58-49fd-8ee7-5e1668844531",
   "metadata": {},
   "outputs": [
    {
     "name": "stdout",
     "output_type": "stream",
     "text": [
      "[1 2]\n",
      "Dimesion o array is : 1\n",
      "(2,)\n"
     ]
    }
   ],
   "source": [
    "arr=np.array([1,2])\n",
    "print(arr)\n",
    "print(\"Dimesion o array is :\",arr.ndim)\n",
    "print(arr.shape)"
   ]
  },
  {
   "cell_type": "code",
   "execution_count": 63,
   "id": "544998f5-8bb6-4821-aaea-20c66a695f04",
   "metadata": {},
   "outputs": [
    {
     "name": "stdout",
     "output_type": "stream",
     "text": [
      "[[2 3]\n",
      " [1 4]\n",
      " [8 6]]\n",
      "Dimesion of array is : 2\n",
      "(3, 2)\n"
     ]
    }
   ],
   "source": [
    "a2=np.array([[2,3],[1,4],[8,6]])\n",
    "print(a2)\n",
    "print(\"Dimesion of array is :\",a2.ndim)\n",
    "print(a2.shape)"
   ]
  },
  {
   "cell_type": "code",
   "execution_count": 67,
   "id": "8eccc417-b5b7-4891-ae38-23be86726399",
   "metadata": {},
   "outputs": [
    {
     "name": "stdout",
     "output_type": "stream",
     "text": [
      "[2 3 4 5 7 6 5 4]\n",
      "Dimesion of aaray is : 1\n",
      "(8,)\n"
     ]
    }
   ],
   "source": [
    "arr2=np.array(((2,3,4,5,7,6,5,4)))\n",
    "print(arr2)\n",
    "print(\"Dimesion of aaray is :\",arr2.ndim)\n",
    "print(arr2.shape)"
   ]
  },
  {
   "cell_type": "code",
   "execution_count": 69,
   "id": "620ad660-4f91-4783-94ce-b5f67730d0f5",
   "metadata": {},
   "outputs": [
    {
     "name": "stdout",
     "output_type": "stream",
     "text": [
      "Dimesion of array is: 3\n",
      "(1, 1, 6)\n"
     ]
    }
   ],
   "source": [
    "arr3=np.array([[[1,2,3,4,5,6]]])\n",
    "print(\"Dimesion of array is:\",arr3.ndim)\n",
    "print(arr3.shape)"
   ]
  },
  {
   "cell_type": "code",
   "execution_count": 73,
   "id": "002f5eca-168a-4529-bce9-9a882ee17d71",
   "metadata": {},
   "outputs": [
    {
     "name": "stdout",
     "output_type": "stream",
     "text": [
      "Dimesion of array is: 3\n",
      "(1, 3, 3)\n"
     ]
    }
   ],
   "source": [
    "arr3=np.array([[[1,2,3],[4,5,6],[4,5,67]]])\n",
    "print(\"Dimesion of array is:\",arr3.ndim)\n",
    "print(arr3.shape)"
   ]
  },
  {
   "cell_type": "code",
   "execution_count": 75,
   "id": "22f6cd45-8f5f-49b8-9f95-7b61e07e7a6d",
   "metadata": {},
   "outputs": [
    {
     "name": "stdout",
     "output_type": "stream",
     "text": [
      "[[[  2   3]\n",
      "  [  3   4]\n",
      "  [  8   7]]\n",
      "\n",
      " [[ 12  13]\n",
      "  [ 13  14]\n",
      "  [ 18  17]]\n",
      "\n",
      " [[120 130]\n",
      "  [130 140]\n",
      "  [180 170]]]\n",
      "Dimensions of array are: 3\n",
      "(3, 3, 2)\n"
     ]
    }
   ],
   "source": [
    "arr3 = np.array([[[2,3], [3,4], [8,7]], [[12,13], [13,14], [18,17]], [[120,130], [130,140], [180,170]]])\n",
    "print(arr3)\n",
    "print(\"Dimensions of array are:\", arr3.ndim)\n",
    "print(arr3.shape)"
   ]
  },
  {
   "cell_type": "code",
   "execution_count": 77,
   "id": "83e310c1-cbd2-4f6e-b17b-035697d47dfa",
   "metadata": {},
   "outputs": [
    {
     "name": "stdout",
     "output_type": "stream",
     "text": [
      "[[[1 2 3]\n",
      "  [3 4 5]]\n",
      "\n",
      " [[6 7 8]\n",
      "  [9 7 6]]\n",
      "\n",
      " [[4 5 6]\n",
      "  [2 3 4]]]\n",
      "Dimension of array is : 3\n",
      "(3, 2, 3)\n"
     ]
    }
   ],
   "source": [
    "a3=np.array([[[1,2,3],[3,4,5]],[[6,7,8],[9,7,6]],[[4,5,6],[2,3,4]]])\n",
    "print(a3)\n",
    "print(\"Dimension of array is :\",a3.ndim)\n",
    "print(a3.shape)"
   ]
  },
  {
   "cell_type": "code",
   "execution_count": 79,
   "id": "0081db0e-0c2a-446f-89c6-1dba4eb215cc",
   "metadata": {},
   "outputs": [
    {
     "name": "stdout",
     "output_type": "stream",
     "text": [
      "[[[[2 1 4 5 7 8]]]]\n",
      "Dimensions of array are: 4\n",
      "(1, 1, 1, 6)\n"
     ]
    }
   ],
   "source": [
    "# 4-D array >> 4 square brackets\n",
    "\n",
    "arr4 = np.array([[[[2,1,4,5,7,8]]]])\n",
    "print(arr4)\n",
    "print(\"Dimensions of array are:\", arr4.ndim)\n",
    "print(arr4.shape)"
   ]
  },
  {
   "cell_type": "code",
   "execution_count": 83,
   "id": "c11c1201-a5c4-4797-8dd4-9377c9a4f70d",
   "metadata": {},
   "outputs": [
    {
     "name": "stdout",
     "output_type": "stream",
     "text": [
      "[[[[[[[[1 2 4 3]]]]]]]]\n",
      "Dimesion of array is : 8\n"
     ]
    }
   ],
   "source": [
    "a1=np.array([1,2,4,3],ndmin=8)\n",
    "print(a1)\n",
    "print(\"Dimesion of array is :\",a1.ndim)"
   ]
  },
  {
   "cell_type": "code",
   "execution_count": 93,
   "id": "5df3f7ef-3566-459e-ac5f-507b8a0ab37b",
   "metadata": {},
   "outputs": [
    {
     "data": {
      "text/plain": [
       "array([4, 5, 7])"
      ]
     },
     "execution_count": 93,
     "metadata": {},
     "output_type": "execute_result"
    }
   ],
   "source": [
    "arr1 = np.array([4,5,7,8,9,7])\n",
    "arr1[:3]"
   ]
  },
  {
   "cell_type": "code",
   "execution_count": 95,
   "id": "db7bc243-69c1-4e11-9613-7ad793113431",
   "metadata": {},
   "outputs": [
    {
     "data": {
      "text/plain": [
       "array([7, 8, 9])"
      ]
     },
     "execution_count": 95,
     "metadata": {},
     "output_type": "execute_result"
    }
   ],
   "source": [
    "arr1 = np.array([4,5,7,8,9,7])  # 0 1 2\n",
    "arr1[2:5] "
   ]
  },
  {
   "cell_type": "code",
   "execution_count": 97,
   "id": "b3df670d-fda8-4e56-b0a8-de00332a022c",
   "metadata": {},
   "outputs": [
    {
     "data": {
      "text/plain": [
       "array([5, 7, 8, 9])"
      ]
     },
     "execution_count": 97,
     "metadata": {},
     "output_type": "execute_result"
    }
   ],
   "source": [
    "arr1 = np.array([4,5,7,8,9,7])  # 0 1 2\n",
    "arr1[1:5] "
   ]
  },
  {
   "cell_type": "code",
   "execution_count": 99,
   "id": "3bd82130-ed57-40cf-a3de-77c3bc0d79d8",
   "metadata": {},
   "outputs": [
    {
     "data": {
      "text/plain": [
       "array([7, 8])"
      ]
     },
     "execution_count": 99,
     "metadata": {},
     "output_type": "execute_result"
    }
   ],
   "source": [
    "arr1 = np.array([4,5,7,8,9,7])  # 0 1 2\n",
    "arr1[2:4] "
   ]
  },
  {
   "cell_type": "code",
   "execution_count": 101,
   "id": "2c0455a4-3c52-4b1d-836f-41195bdb2484",
   "metadata": {},
   "outputs": [
    {
     "data": {
      "text/plain": [
       "array([7, 9, 8, 7, 5, 4])"
      ]
     },
     "execution_count": 101,
     "metadata": {},
     "output_type": "execute_result"
    }
   ],
   "source": [
    "arr1 = np.array([4,5,7,8,9,7]) \n",
    "arr1[::-1]"
   ]
  },
  {
   "cell_type": "code",
   "execution_count": 107,
   "id": "b770ab98-8563-4c6f-982a-05af09e6e789",
   "metadata": {},
   "outputs": [
    {
     "data": {
      "text/plain": [
       "array([8, 9, 7, 3, 2, 2])"
      ]
     },
     "execution_count": 107,
     "metadata": {},
     "output_type": "execute_result"
    }
   ],
   "source": [
    "arr1 = np.array([4,5,7,8,9,7,3,2,2,1])  # 0 1 2\n",
    "arr1[3:9]"
   ]
  },
  {
   "cell_type": "code",
   "execution_count": 109,
   "id": "d561a52e-30b7-43ee-a4e4-523568ee3395",
   "metadata": {},
   "outputs": [
    {
     "data": {
      "text/plain": [
       "array([[4, 5],\n",
       "       [9, 7],\n",
       "       [8, 6]])"
      ]
     },
     "execution_count": 109,
     "metadata": {},
     "output_type": "execute_result"
    }
   ],
   "source": [
    "arr2 = np.array([[4,5], [9,7], [8,6]])\n",
    "arr2"
   ]
  },
  {
   "cell_type": "code",
   "execution_count": 111,
   "id": "ce10e138-bab3-4c2e-8dcc-d4cd0d1dba9c",
   "metadata": {},
   "outputs": [
    {
     "data": {
      "text/plain": [
       "array([4, 5])"
      ]
     },
     "execution_count": 111,
     "metadata": {},
     "output_type": "execute_result"
    }
   ],
   "source": [
    "arr2 = np.array([[4,5], [9,7], [8,6]])\n",
    "arr2[0]"
   ]
  },
  {
   "cell_type": "code",
   "execution_count": 113,
   "id": "bea4a3ef-83d8-46cf-ab73-5af0ad99a639",
   "metadata": {},
   "outputs": [
    {
     "data": {
      "text/plain": [
       "array([9, 7])"
      ]
     },
     "execution_count": 113,
     "metadata": {},
     "output_type": "execute_result"
    }
   ],
   "source": [
    "arr2 = np.array([[4,5], [9,7], [8,6]])\n",
    "arr2[1]"
   ]
  },
  {
   "cell_type": "code",
   "execution_count": 115,
   "id": "f90a5641-a9d1-46bb-b378-cb2c18158631",
   "metadata": {},
   "outputs": [
    {
     "data": {
      "text/plain": [
       "array([8, 6])"
      ]
     },
     "execution_count": 115,
     "metadata": {},
     "output_type": "execute_result"
    }
   ],
   "source": [
    "arr2 = np.array([[4,5], [9,7], [8,6]])\n",
    "arr2[2]"
   ]
  },
  {
   "cell_type": "code",
   "execution_count": 119,
   "id": "da3b578e-7894-44d7-9a4c-59b70d1d5205",
   "metadata": {},
   "outputs": [
    {
     "data": {
      "text/plain": [
       "4"
      ]
     },
     "execution_count": 119,
     "metadata": {},
     "output_type": "execute_result"
    }
   ],
   "source": [
    "arr2 = np.array([[4,5], [9,7], [8,6]])\n",
    "arr2[0][0] "
   ]
  },
  {
   "cell_type": "code",
   "execution_count": 121,
   "id": "b4b67a69-b14b-4954-a930-a2141a41bfa9",
   "metadata": {},
   "outputs": [
    {
     "data": {
      "text/plain": [
       "5"
      ]
     },
     "execution_count": 121,
     "metadata": {},
     "output_type": "execute_result"
    }
   ],
   "source": [
    "arr2 = np.array([[4,5], [9,7], [8,6]])\n",
    "arr2[0][1] "
   ]
  },
  {
   "cell_type": "code",
   "execution_count": 123,
   "id": "0fe00595-8fcd-466d-beba-b7e2df7af099",
   "metadata": {},
   "outputs": [
    {
     "data": {
      "text/plain": [
       "9"
      ]
     },
     "execution_count": 123,
     "metadata": {},
     "output_type": "execute_result"
    }
   ],
   "source": [
    "arr2 = np.array([[4,5], [9,7], [8,6]])\n",
    "arr2[1][0] "
   ]
  },
  {
   "cell_type": "code",
   "execution_count": 125,
   "id": "ef25d249-89e1-469f-8d91-6f18b4b9abf2",
   "metadata": {},
   "outputs": [
    {
     "data": {
      "text/plain": [
       "7"
      ]
     },
     "execution_count": 125,
     "metadata": {},
     "output_type": "execute_result"
    }
   ],
   "source": [
    "arr2 = np.array([[4,5], [9,7], [8,6]])\n",
    "arr2[1][1] "
   ]
  },
  {
   "cell_type": "code",
   "execution_count": 127,
   "id": "0d4649d4-98e7-4e46-b6dd-da9481946b78",
   "metadata": {},
   "outputs": [
    {
     "data": {
      "text/plain": [
       "8"
      ]
     },
     "execution_count": 127,
     "metadata": {},
     "output_type": "execute_result"
    }
   ],
   "source": [
    "arr2 = np.array([[4,5], [9,7], [8,6]])\n",
    "arr2[2][0] "
   ]
  },
  {
   "cell_type": "code",
   "execution_count": 129,
   "id": "c318f2a1-acb4-4077-b9c2-12b13c4d96a1",
   "metadata": {},
   "outputs": [
    {
     "data": {
      "text/plain": [
       "6"
      ]
     },
     "execution_count": 129,
     "metadata": {},
     "output_type": "execute_result"
    }
   ],
   "source": [
    "arr2 = np.array([[4,5], [9,7], [8,6]])\n",
    "arr2[2][1] "
   ]
  },
  {
   "cell_type": "code",
   "execution_count": 131,
   "id": "982be965-63aa-46f4-82f5-b62b64a21b6e",
   "metadata": {},
   "outputs": [
    {
     "name": "stdout",
     "output_type": "stream",
     "text": [
      "[[4 5 8]\n",
      " [9 7 3]\n",
      " [8 6 2]]\n"
     ]
    },
    {
     "data": {
      "text/plain": [
       "(3, 3)"
      ]
     },
     "execution_count": 131,
     "metadata": {},
     "output_type": "execute_result"
    }
   ],
   "source": [
    "arr2 = np.array([[4,5,8], [9,7,3], [8,6,2]])\n",
    "print(arr2)\n",
    "arr2.shape"
   ]
  },
  {
   "cell_type": "code",
   "execution_count": 133,
   "id": "9a2f9876-15de-4c77-baea-a78815df57c3",
   "metadata": {},
   "outputs": [
    {
     "data": {
      "text/plain": [
       "array([[4, 5, 8],\n",
       "       [9, 7, 3],\n",
       "       [8, 6, 2]])"
      ]
     },
     "execution_count": 133,
     "metadata": {},
     "output_type": "execute_result"
    }
   ],
   "source": [
    "arr2 = np.array([[4,5,8], [9,7,3], [8,6,2]])\n",
    "arr2[:,:]"
   ]
  },
  {
   "cell_type": "code",
   "execution_count": 143,
   "id": "b566eca2-fc45-4a84-ae5a-b1aac56acebe",
   "metadata": {},
   "outputs": [
    {
     "data": {
      "text/plain": [
       "array([[9, 7],\n",
       "       [8, 6]])"
      ]
     },
     "execution_count": 143,
     "metadata": {},
     "output_type": "execute_result"
    }
   ],
   "source": [
    "arr2 = np.array([[4,5,8], [9,7,3], [8,6,2]])\n",
    "arr2[1:3,:2]  # all the rows and 1st 2 columns"
   ]
  },
  {
   "cell_type": "code",
   "execution_count": null,
   "id": "8ae6d32f-fa29-46c1-9a95-e10d8a80b9d5",
   "metadata": {},
   "outputs": [],
   "source": [
    "arr2 = np.array([[4,5,8], [9,7,3], [8,6,2]])\n",
    "arr2[:,:2]  # all the rows and 1st 2 columns"
   ]
  }
 ],
 "metadata": {
  "kernelspec": {
   "display_name": "Python 3 (ipykernel)",
   "language": "python",
   "name": "python3"
  },
  "language_info": {
   "codemirror_mode": {
    "name": "ipython",
    "version": 3
   },
   "file_extension": ".py",
   "mimetype": "text/x-python",
   "name": "python",
   "nbconvert_exporter": "python",
   "pygments_lexer": "ipython3",
   "version": "3.12.4"
  }
 },
 "nbformat": 4,
 "nbformat_minor": 5
}
